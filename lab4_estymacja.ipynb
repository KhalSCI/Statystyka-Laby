{
 "cells": [
  {
   "cell_type": "markdown",
   "id": "76919b44",
   "metadata": {},
   "source": [
    "# Lab 4 Estymacja\n"
   ]
  },
  {
   "cell_type": "markdown",
   "id": "cd125b46",
   "metadata": {},
   "source": [
    "## Zadanie 1\n",
    "\n",
    "4. Estymacja 1 UWAGA! Większość danych pojawiających się w poniższych zadaniach dostępna jest w pliku dane_est.csv 1. W celu oceny nowego procesu produkcji syntetycznych diamentów sprawdzono wagę [karaty] diamentów wyprodukowanych tą metodą uzyskując następujące wyniki: 0,46 0,61 0,52 0,48 0,57 0,54 0,47 0,63 0,51 0,49 0,58 0,55. Przyjmijmy, że badana zmienna ma rozkład normalny. (a) Określ populację, próbę i badaną zmienną. (b) Wyznacz ocenę punktową średniej wagi diamentów produkowanych tą metodą. 0,534167 (c) Oszacuj z 95% pewnością średnią wagę wszystkich syntetycznych diamentów produkowanych badaną metodą (skonstruuj własną funkcję i porównaj wynik z wynikami odpowiedniej funkcji dostępnej w R). (0,498; 0,57) (d) Zwiększ ufność z jaką chcemy wnioskować i porównaj długości uzyskanych przedziałów ufności.\n"
   ]
  },
  {
   "cell_type": "code",
   "execution_count": 3,
   "id": "4d627abb",
   "metadata": {
    "vscode": {
     "languageId": "r"
    }
   },
   "outputs": [
    {
     "name": "stdout",
     "output_type": "stream",
     "text": [
      "[1] 0.5341667\n",
      "[1] 0.4988990 0.5694343\n",
      "[1] 0.4988990 0.5694343\n",
      "attr(,\"conf.level\")\n",
      "[1] 0.95\n",
      "[1] 0.4844005 0.5839328\n",
      "[1] 0.4844005 0.5839328\n",
      "attr(,\"conf.level\")\n",
      "[1] 0.99\n"
     ]
    },
    {
     "name": "stdout",
     "output_type": "stream",
     "text": [
      "Długość przedziału 95%: 0.07053531 \n",
      "Długość przedziału 99%: 0.09953227 \n",
      "Stosunek długości 99% do 95%: 1.411098"
     ]
    }
   ],
   "source": [
    "# (a) Określenie populacji, próby i badanej zmiennej\n",
    "# Wczytanie danych z pliku CSV\n",
    "\n",
    "\n",
    "\n",
    "dane <- read.csv(\"dane/dane_est.csv\", sep = \";\", dec = \",\", header = TRUE)\n",
    "\n",
    "# (b) Wyznacz ocenę punktową średniej wagi diamentów\n",
    "# Pobranie danych o diamentach (pomijając NA)\n",
    "wagi <- na.omit(dane$diamenty)\n",
    "srednia <- mean(wagi)\n",
    "print(srednia)\n",
    "\n",
    "# (c) Oszacuj średnią z 95% przedziałem ufności\n",
    "# Własna funkcja\n",
    "przedzial_ufnosci <- function(x, poziom = 0.95) {\n",
    "  n <- length(x)\n",
    "  s <- sd(x)\n",
    "  m <- mean(x)\n",
    "  se <- s / sqrt(n)\n",
    "  t <- qt(1 - (1 - poziom) / 2, df = n - 1)\n",
    "  dol <- m - t * se\n",
    "  gora <- m + t * se\n",
    "  c(dol, gora)\n",
    "}\n",
    "\n",
    "# Wywołanie własnej funkcji\n",
    "pi_95 <- przedzial_ufnosci(wagi)\n",
    "print(pi_95)\n",
    "\n",
    "# Wbudowana funkcja\n",
    "pi_95_t <- t.test(wagi, conf.level = 0.95)$conf.int\n",
    "print(pi_95_t)\n",
    "\n",
    "# (d) Przedział ufności 99% i porównanie długości\n",
    "# Zwiększenie poziomu ufności do 99%\n",
    "pi_99 <- przedzial_ufnosci(wagi, poziom = 0.99)\n",
    "print(pi_99)\n",
    "\n",
    "pi_99_t <- t.test(wagi, conf.level = 0.99)$conf.int\n",
    "print(pi_99_t)\n",
    "\n",
    "# Porównanie długości przedziałów\n",
    "dlugosc_95 <- pi_95[2] - pi_95[1]\n",
    "dlugosc_99 <- pi_99[2] - pi_99[1]\n",
    "cat(\"Długość przedziału 95%:\", dlugosc_95, \"\\n\")\n",
    "cat(\"Długość przedziału 99%:\", dlugosc_99, \"\\n\")\n",
    "cat(\"Stosunek długości 99% do 95%:\", dlugosc_99 / dlugosc_95)"
   ]
  },
  {
   "cell_type": "markdown",
   "id": "cd6e841d",
   "metadata": {},
   "source": [
    "### Metoda\n",
    "\n",
    "#### (a)\n",
    "\n",
    "Określenie populacji, próby i badanej zmiennej jest zadaniem koncepcyjnym, nie wymaga analizy statystycznej.\n",
    "\n",
    "#### (b)\n",
    "\n",
    "Średnia arytmetyczna to estymator punktowy wartości oczekiwanej (średniej) w populacji. Przy założeniu rozkładu normalnego jest to estymator nieobciążony i zgodny.\n",
    "\n",
    "#### (c)\n",
    "\n",
    "Przy konstrukcji przedziału ufności dla średniej z rozkładu normalnego o nieznanej wariancji korzystamy z rozkładu t-Studenta. Przedział ufności na poziomie 1-α ma postać:\n",
    "`średnia ± t(α/2, n-1) * (s / √n)`,\n",
    "gdzie t(α/2, n-1) to kwantyl rzędu 1-α/2 z rozkładu t-Studenta z n-1 stopniami swobody, s to odchylenie standardowe z próby, a n to liczebność próby.\n",
    "\n",
    "#### (d)\n",
    "\n",
    "Zwiększając poziom ufności (np. z 95% do 99%), zwiększamy wartość kwantyla t, co prowadzi do poszerzenia przedziału ufności.\n",
    "\n",
    "### Opis\n",
    "\n",
    "#### (a)\n",
    "\n",
    "Określamy populację jako wszystkie syntetyczne diamenty, które mogą być wyprodukowane badaną metodą. Próba składa się z 12 diamentów, których wagi zostały zmierzone i zapisane w pliku CSV w kolumnie \"diamenty\". Badaną zmienną jest waga diamentów mierzona w karatach.\n",
    "\n",
    "#### (b)\n",
    "\n",
    "Wczytujemy dane z pliku CSV przy użyciu funkcji `read.csv()` z odpowiednimi parametrami:\n",
    "\n",
    "- `sep = \";\"` - określa separator kolumn jako średnik\n",
    "- `dec = \",\"` - określa, że przecinek jest używany jako separator dziesiętny\n",
    "- `header = TRUE` - określa, że pierwszy wiersz zawiera nazwy kolumn\n",
    "\n",
    "Następnie pobieramy kolumnę \"diamenty\" i usuwamy ewentualne wartości NA przy użyciu funkcji `na.omit()`. Obliczamy średnią arytmetyczną z próby 12 diamentów przy użyciu funkcji `mean()`.\n",
    "\n",
    "#### (c)\n",
    "\n",
    "Tworzymy funkcję `przedzial_ufnosci()`, która:\n",
    "\n",
    "1. Wyznacza liczebność próby, odchylenie standardowe i średnią\n",
    "2. Oblicza błąd standardowy średniej (s / √n)\n",
    "3. Znajduje odpowiedni kwantyl z rozkładu t-Studenta\n",
    "4. Oblicza dolną i górną granicę przedziału ufności\n",
    "5. Zwraca przedział jako wektor dwuelementowy\n",
    "\n",
    "Porównujemy wynik z wbudowaną funkcją `t.test()`, która wykonuje te same obliczenia.\n",
    "\n",
    "#### (d)\n",
    "\n",
    "Zwiększamy poziom ufności z 95% do 99%, obliczamy oba przedziały i porównujemy ich długości. Długość przedziału to różnica między górną a dolną granicą. Obliczamy również stosunek długości, aby zobaczyć, o ile szerszy jest przedział o wyższej ufności.\n",
    "\n",
    "### Interpretacja\n",
    "\n",
    "#### (a)\n",
    "\n",
    "Populacja to wszystkie możliwe diamenty wyprodukowane badaną metodą produkcji syntetycznych diamentów. Próba to 12 zmierzonych diamentów, a badana zmienna to waga diamentów mierzona w karatach.\n",
    "\n",
    "#### (b)\n",
    "\n",
    "Średnia waga diamentów w próbie wynosi około 0,534 karata. Jest to nasze najlepsze punktowe oszacowanie średniej wagi wszystkich diamentów, które mogą być wyprodukowane tą metodą.\n",
    "\n",
    "#### (c)\n",
    "\n",
    "Z 95% pewnością możemy stwierdzić, że prawdziwa średnia waga wszystkich diamentów produkowanych badaną metodą zawiera się w przedziale od około 0,498 do 0,57 karata. Oznacza to, że gdybyśmy wielokrotnie pobierali próby i konstruowali przedziały ufności, to około 95% z nich zawierałoby prawdziwą wartość średniej w populacji.\n",
    "\n",
    "#### (d)\n",
    "\n",
    "Przedział ufności 99% jest szerszy niż przedział 95%, co jest oczekiwane, ponieważ większa pewność wymaga większej \"ostrożności\" w oszacowaniu. Zwiększenie poziomu ufności z 95% do 99% powoduje poszerzenie przedziału - jest to kompromis między precyzją (wąski przedział) a pewnością (wysoki poziom ufności). Im wyższa pewność, tym mniej precyzyjne oszacowanie, co widać po stosunku długości tych przedziałów.\n"
   ]
  },
  {
   "cell_type": "markdown",
   "id": "d7988248",
   "metadata": {},
   "source": [
    "## Zadanie 2\n",
    "\n",
    "Agencja Ochrony Środowiska jest zaniepokojona ilością PCB – toksycznej substancji chemicznej – w mleku matek karmiących piersią. W próbie 20 kobiet poziom PCB (w liczbie cząsteczek na milion) był następujący: 16, 0, 0, 2, 3, 6, 8, 2, 5, 0, 12, 10, 5, 7, 2 , 3, 8, 17, 9, 1. Załóżmy, że rozkład analizowanej zmiennej losowej jest normalny. (a) Zdefiniuj populację, próbkę i badaną zmienną. (b) Oblicz szacunkowy średni poziom PCB w mleku wszystkich matek karmiących piersią. 5.8 (c) Oceń z ufnością 95% średni poziom PCB w mleku wszystkich matek karmiących piersią. Zinterpretuj wynik. (3,42; 8,18)\n"
   ]
  },
  {
   "cell_type": "code",
   "execution_count": 5,
   "id": "b4a16786",
   "metadata": {
    "vscode": {
     "languageId": "r"
    }
   },
   "outputs": [
    {
     "data": {
      "text/html": [
       "5.8"
      ],
      "text/latex": [
       "5.8"
      ],
      "text/markdown": [
       "5.8"
      ],
      "text/plain": [
       "[1] 5.8"
      ]
     },
     "metadata": {},
     "output_type": "display_data"
    },
    {
     "data": {
      "text/html": [
       "<style>\n",
       ".list-inline {list-style: none; margin:0; padding: 0}\n",
       ".list-inline>li {display: inline-block}\n",
       ".list-inline>li:not(:last-child)::after {content: \"\\00b7\"; padding: 0 .5ex}\n",
       "</style>\n",
       "<ol class=list-inline><li>3.42035813791822</li><li>8.17964186208178</li></ol>\n"
      ],
      "text/latex": [
       "\\begin{enumerate*}\n",
       "\\item 3.42035813791822\n",
       "\\item 8.17964186208178\n",
       "\\end{enumerate*}\n"
      ],
      "text/markdown": [
       "1. 3.42035813791822\n",
       "2. 8.17964186208178\n",
       "\n",
       "\n"
      ],
      "text/plain": [
       "[1] 3.420358 8.179642"
      ]
     },
     "metadata": {},
     "output_type": "display_data"
    },
    {
     "data": {
      "text/html": [
       "<style>\n",
       ".list-inline {list-style: none; margin:0; padding: 0}\n",
       ".list-inline>li {display: inline-block}\n",
       ".list-inline>li:not(:last-child)::after {content: \"\\00b7\"; padding: 0 .5ex}\n",
       "</style>\n",
       "<ol class=list-inline><li>3.42035813791822</li><li>8.17964186208178</li></ol>\n"
      ],
      "text/latex": [
       "\\begin{enumerate*}\n",
       "\\item 3.42035813791822\n",
       "\\item 8.17964186208178\n",
       "\\end{enumerate*}\n"
      ],
      "text/markdown": [
       "1. 3.42035813791822\n",
       "2. 8.17964186208178\n",
       "\n",
       "\n"
      ],
      "text/plain": [
       "[1] 3.420358 8.179642\n",
       "attr(,\"conf.level\")\n",
       "[1] 0.95"
      ]
     },
     "metadata": {},
     "output_type": "display_data"
    },
    {
     "data": {
      "text/html": [
       "5.8"
      ],
      "text/latex": [
       "5.8"
      ],
      "text/markdown": [
       "5.8"
      ],
      "text/plain": [
       "[1] 5.8"
      ]
     },
     "metadata": {},
     "output_type": "display_data"
    },
    {
     "data": {
      "text/html": [
       "<style>\n",
       ".list-inline {list-style: none; margin:0; padding: 0}\n",
       ".list-inline>li {display: inline-block}\n",
       ".list-inline>li:not(:last-child)::after {content: \"\\00b7\"; padding: 0 .5ex}\n",
       "</style>\n",
       "<ol class=list-inline><li>3.42035813791822</li><li>8.17964186208178</li></ol>\n"
      ],
      "text/latex": [
       "\\begin{enumerate*}\n",
       "\\item 3.42035813791822\n",
       "\\item 8.17964186208178\n",
       "\\end{enumerate*}\n"
      ],
      "text/markdown": [
       "1. 3.42035813791822\n",
       "2. 8.17964186208178\n",
       "\n",
       "\n"
      ],
      "text/plain": [
       "[1] 3.420358 8.179642\n",
       "attr(,\"conf.level\")\n",
       "[1] 0.95"
      ]
     },
     "metadata": {},
     "output_type": "display_data"
    }
   ],
   "source": [
    "# (a) Określenie populacji, próby i zmiennej\n",
    "# Nie wymaga kodu R\n",
    "\n",
    "# (b) Obliczenie szacunkowego średniego poziomu PCB\n",
    "# Najpierw zdefiniujmy dane z poziomem PCB\n",
    "pcb <- c(16, 0, 0, 2, 3, 6, 8, 2, 5, 0, 12, 10, 5, 7, 2, 3, 8, 17, 9, 1)\n",
    "\n",
    "# Obliczamy średnią\n",
    "mean(pcb)\n",
    "\n",
    "# (c) Przedział ufności 95% dla średniego poziomu PCB\n",
    "# Możemy obliczyć ręcznie\n",
    "n <- length(pcb)\n",
    "s <- sd(pcb)\n",
    "se <- s/sqrt(n)\n",
    "t_val <- qt(0.975, df=n-1)\n",
    "dolna_granica <- mean(pcb) - t_val*se\n",
    "gorna_granica <- mean(pcb) + t_val*se\n",
    "c(dolna_granica, gorna_granica)\n",
    "\n",
    "# Alternatywnie, możemy użyć wbudowanej funkcji t.test\n",
    "t.test(pcb, conf.level=0.95)$conf.int\n",
    "\n",
    "# Możemy też wczytać dane z pliku CSV\n",
    "dane <- read.csv(\"dane/dane_est.csv\", sep=\";\", dec=\",\")\n",
    "pcb_z_pliku <- na.omit(dane$mleko)\n",
    "mean(pcb_z_pliku)\n",
    "t.test(pcb_z_pliku, conf.level=0.95)$conf.int"
   ]
  },
  {
   "cell_type": "markdown",
   "id": "7a9d8b33",
   "metadata": {},
   "source": [
    "### Metoda\n",
    "\n",
    "#### (a)\n",
    "\n",
    "Definiowanie populacji, próby i zmiennej badanej jest elementem analizy statystycznej. Nie wymaga obliczeń.\n",
    "\n",
    "#### (b)\n",
    "\n",
    "Średnia arytmetyczna jest estymatorem punktowym średniej populacji. Przy założeniu normalności rozkładu, jest to najlepszy estymator nieobciążony.\n",
    "\n",
    "#### (c)\n",
    "\n",
    "Do oszacowania średniego poziomu PCB z określonym poziomem ufności stosujemy przedział ufności oparty na rozkładzie t-Studenta, ponieważ zakładamy rozkład normalny zmiennej, a odchylenie standardowe populacji nie jest znane.\n",
    "\n",
    "### Opis\n",
    "\n",
    "#### (a)\n",
    "\n",
    "Populacja to wszystkie matki karmiące piersią.\n",
    "Próba to 20 kobiet, których poziom PCB zmierzono.\n",
    "Badana zmienna to poziom PCB w mleku (liczba cząsteczek na milion).\n",
    "\n",
    "#### (b)\n",
    "\n",
    "Obliczamy średnią arytmetyczną z próby 20 kobiet, sumując wszystkie wartości poziomu PCB i dzieląc przez liczbę obserwacji. W kodzie używamy funkcji `mean()` w R.\n",
    "\n",
    "#### (c)\n",
    "\n",
    "Konstruujemy przedział ufności na poziomie 95% używając wzoru:\n",
    "średnia ± t\\_(α/2, n-1) \\* (s/√n), gdzie:\n",
    "\n",
    "- średnia to średnia z próby\n",
    "- t\\_(α/2, n-1) to wartość krytyczna z rozkładu t-Studenta dla n-1 stopni swobody i poziomu istotności α/2\n",
    "- s to odchylenie standardowe z próby\n",
    "- n to liczebność próby\n",
    "\n",
    "W R obliczamy to ręcznie w krokach, a dodatkowo weryfikujemy wynik używając wbudowanej funkcji `t.test()`.\n",
    "\n",
    "### Interpretacja\n",
    "\n",
    "#### (a)\n",
    "\n",
    "Badamy poziom PCB w mleku matek karmiących piersią, aby ocenić narażenie populacji matek karmiących na tę toksyczną substancję. PCB (polichlorowane bifenyle) są substancjami szkodliwymi dla zdrowia, dlatego ważne jest monitorowanie ich poziomu.\n",
    "\n",
    "#### (b)\n",
    "\n",
    "Średni poziom PCB w mleku badanych 20 matek karmiących piersią wynosi 5,8 cząsteczek na milion. Jest to punkt odniesienia dla dalszych badań i ocen ryzyka.\n",
    "\n",
    "#### (c)\n",
    "\n",
    "Z 95% pewnością możemy stwierdzić, że średni poziom PCB w mleku wszystkich matek karmiących piersią zawiera się w przedziale od 3,42 do 8,18 cząsteczek na milion.\n",
    "\n",
    "Interpretacja: Oznacza to, że gdybyśmy wielokrotnie pobierali próby o wielkości 20 kobiet i konstruowali przedziały ufności, to w 95% przypadków prawdziwa średnia poziomu PCB w populacji wszystkich matek karmiących znalazłaby się w tych przedziałach.\n",
    "\n",
    "Ponieważ cały przedział zawiera wartości większe od zera, możemy wnioskować, że istnieje problem obecności PCB w mleku matek karmiących. Agencja Ochrony Środowiska powinna rozważyć dalsze badania i ewentualne działania mające na celu zmniejszenie narażenia matek karmiących na PCB.\n"
   ]
  },
  {
   "cell_type": "markdown",
   "id": "1f3b8e07",
   "metadata": {},
   "source": [
    "## Zadanie 3\n",
    "\n",
    "Aby oszacować średnią zawartość nikotyny w nowej marce papierosów, wybrano 15 paczek papierosów i zbadano w nich zawartość nikotyny otrzymując dane (w mg): 1,87 2,28 1,77 2,13 1,43 1,64 2,38 1,39 1,94 2,68 1,95 0,86 1,98 1,69 1,15. Z wcześniejszych badań wiadomo, że rozkład zawartości nikotyny jest normalny z odchyleniem standardowym równym 0,7 mg. (a) Oceń z ufnością 95% średnią zawartości nikotyny we wszystkich papierosach? (1,455; 2,164) (b) Jak duża próbka jest potrzebna, aby długość 95% przedziału ufności była nie większa niż 0,3 mg? 84\n",
    "\n",
    "Wczytaj dane z pliku csv dane_est.csv ktory zbudowany jest tak :\n",
    "diamenty;mleko;papierosy;wodorosty;sygnal\n"
   ]
  },
  {
   "cell_type": "code",
   "execution_count": 8,
   "id": "d305a4e9",
   "metadata": {
    "vscode": {
     "languageId": "r"
    }
   },
   "outputs": [
    {
     "name": "stderr",
     "output_type": "stream",
     "text": [
      "Installing package into ‘/home/khal/R/x86_64-pc-linux-gnu-library/4.1’\n",
      "(as ‘lib’ is unspecified)\n",
      "\n",
      "also installing the dependencies ‘proxy’, ‘e1071’\n",
      "\n",
      "\n"
     ]
    }
   ],
   "source": [
    "install.packages(\"BSDA\")"
   ]
  },
  {
   "cell_type": "code",
   "execution_count": 10,
   "id": "7841a5c0",
   "metadata": {
    "vscode": {
     "languageId": "r"
    }
   },
   "outputs": [],
   "source": [
    "library(BSDA)"
   ]
  },
  {
   "cell_type": "code",
   "execution_count": 11,
   "id": "d4d03137",
   "metadata": {
    "vscode": {
     "languageId": "r"
    }
   },
   "outputs": [
    {
     "name": "stdout",
     "output_type": "stream",
     "text": [
      "[1] 1.455091 2.163576\n",
      "attr(,\"conf.level\")\n",
      "[1] 0.95\n"
     ]
    },
    {
     "name": "stdout",
     "output_type": "stream",
     "text": [
      "[1] 84\n"
     ]
    }
   ],
   "source": [
    "# Wczytywanie danych z pliku CSV\n",
    "dane <- read.csv(\"dane/dane_est.csv\", sep=\";\", dec=\",\", header=TRUE)\n",
    "\n",
    "# (a) Oszacowanie średniej zawartości nikotyny z ufnością 95%\n",
    "nikotyna <- na.omit(dane$papierosy)  # Usuwanie NA z danych o nikotynie\n",
    "\n",
    "wynik_z_test <- z.test(nikotyna, sigma.x=0.7, conf.level=0.95)\n",
    "przedział_ufnosci <- wynik_z_test$conf.int\n",
    "print(przedział_ufnosci)\n",
    "\n",
    "# (b) Wielkość próby dla długości przedziału ufności nie większej niż 0,3 mg\n",
    "dlugosc_maksymalna <- 0.3\n",
    "z <- qnorm(0.975)\n",
    "sigma <- 0.7\n",
    "\n",
    "wymagana_wielkosc_probki <- ceiling((2 * z * sigma / dlugosc_maksymalna)^2)\n",
    "print(wymagana_wielkosc_probki)"
   ]
  },
  {
   "cell_type": "markdown",
   "id": "48f657db",
   "metadata": {},
   "source": [
    "### Metoda\n",
    "\n",
    "#### (a)\n",
    "\n",
    "Do oszacowania średniej zawartości nikotyny używamy przedziału ufności dla średniej przy znanym odchyleniu standardowym (σ = 0,7 mg). Ponieważ znamy odchylenie standardowe populacji i zakładamy rozkład normalny, stosujemy test z (rozkład normalny) z wykorzystaniem funkcji `z.test` z pakietu BSDA. Dane wczytujemy z pliku CSV.\n",
    "\n",
    "#### (b)\n",
    "\n",
    "Aby znaleźć wymaganą wielkość próby, korzystamy z wzoru na długość przedziału ufności i rozwiązujemy go dla n.\n",
    "\n",
    "### Opis\n",
    "\n",
    "#### (a)\n",
    "\n",
    "1. Wczytujemy dane z pliku CSV używając funkcji `read.csv()` z odpowiednimi parametrami.\n",
    "2. Wyodrębniamy kolumnę \"papierosy\" zawierającą dane o zawartości nikotyny.\n",
    "3. Usuwamy brakujące wartości (NA) za pomocą funkcji `na.omit()`.\n",
    "4. Używamy funkcji `z.test` z pakietu BSDA do obliczenia 95% przedziału ufności dla średniej.\n",
    "5. Funkcja ta wymaga podania wektora danych, znanego odchylenia standardowego populacji (sigma.x=0.7) oraz poziomu ufności (conf.level=0.95).\n",
    "6. Wyodrębniamy przedział ufności z wyników testu za pomocą `wynik_z_test$conf.int`.\n",
    "\n",
    "#### (b)\n",
    "\n",
    "1. Długość przedziału ufności to 2 _ z\\_{α/2} _ (σ/√n).\n",
    "2. Chcemy, aby ta długość była nie większa niż 0,3 mg.\n",
    "3. Przekształcamy wzór: 2 _ z\\_{α/2} _ (σ/√n) ≤ 0,3.\n",
    "4. Rozwiązujemy dla n: n ≥ (2 _ z\\_{α/2} _ σ / 0,3)².\n",
    "5. Podstawiamy wartości: z\\_{α/2} = 1,96 (dla 95% ufności), σ = 0,7.\n",
    "6. Zaokrąglamy wynik w górę za pomocą funkcji `ceiling()`, ponieważ liczba próbek musi być liczbą całkowitą.\n",
    "\n",
    "### Interpretacja\n",
    "\n",
    "#### (a)\n",
    "\n",
    "Z 95% ufnością można stwierdzić, że prawdziwa średnia zawartość nikotyny we wszystkich papierosach tej marki mieści się w przedziale od około 1,455 mg do 2,164 mg. Oznacza to, że gdybyśmy wielokrotnie pobierali próby i tworzyli przedziały ufności, to 95% tych przedziałów zawierałoby rzeczywistą średnią zawartość nikotyny w populacji. Dane zostały wczytane z pliku CSV, co zapewnia możliwość pracy z rzeczywistymi danymi przechowywanymi w zewnętrznym źródle.\n",
    "\n",
    "#### (b)\n",
    "\n",
    "Aby uzyskać 95% przedział ufności o długości nie większej niż 0,3 mg, potrzebujemy co najmniej 84 próbki. Oznacza to, że musielibyśmy zbadać co najmniej 84 paczki papierosów, aby osiągnąć pożądaną precyzję oszacowania średniej zawartości nikotyny. Im większa próba, tym węższy przedział ufności i większa precyzja estymacji.\n"
   ]
  },
  {
   "cell_type": "markdown",
   "id": "bdfbb651",
   "metadata": {},
   "source": [
    "### Wyjasnienie czym jest Z\n",
    "\n",
    "\"Z\" w tym wzorze to wartość krytyczna z rozkładu normalnego standardowego, która jest używana do konstruowania przedziałów ufności. W kontekście zadania o wielkości próby, pojawia się ona w formule:\n",
    "\n",
    "n ≥ (2 _ z\\_{α/2} _ σ / d)²\n",
    "\n",
    "gdzie:\n",
    "\n",
    "- n to wymagana wielkość próby\n",
    "- z\\_{α/2} to wartość krytyczna z rozkładu normalnego standardowego\n",
    "- σ to odchylenie standardowe populacji (0,7 mg)\n",
    "- d to maksymalna dopuszczalna długość przedziału ufności (0,3 mg)\n",
    "\n",
    "Dlaczego używamy `qnorm(0.975)` do obliczenia wartości z:\n",
    "\n",
    "1. Dla przedziału ufności 95%, poziom istotności α = 0.05 (ponieważ 1 - 0.95 = 0.05).\n",
    "2. W konstrukcji dwustronnego przedziału ufności, dzielimy α na dwie części (po jednej dla każdego końca przedziału): α/2 = 0.025.\n",
    "3. Funkcja `qnorm(p)` w R zwraca wartość z (kwantyl), dla której prawdopodobieństwo, że zmienna losowa o rozkładzie normalnym standardowym przyjmie wartość mniejszą lub równą z, wynosi p.\n",
    "4. Potrzebujemy wartości z, która odcina górne 2.5% rozkładu, co odpowiada prawdopodobieństwu 0.975 (1 - 0.025 = 0.975).\n",
    "5. Dlatego używamy `qnorm(0.975)`, co daje nam w przybliżeniu wartość 1.96.\n",
    "\n",
    "Wartość z = 1.96 ma głębokie znaczenie w statystyce:\n",
    "\n",
    "1. Oznacza, że dla rozkładu normalnego standardowego, 95% wartości znajduje się w przedziale (-1.96, 1.96).\n",
    "2. W kontekście przedziałów ufności, wartość ta określa, jak \"szeroko\" musimy rozciągnąć przedział wokół średniej, aby z zadanym prawdopodobieństwem (95%) zawierał prawdziwą wartość parametru populacji.\n",
    "3. Im wyższy poziom ufności wymagamy, tym większa będzie wartość z, a w konsekwencji szerszy przedział ufności lub większa wymagana wielkość próby.\n",
    "4. Dla ufności 99%, używalibyśmy `qnorm(0.995)` ≈ 2.58, co prowadziłoby do szerszych przedziałów lub większej wymaganej wielkości próby.\n",
    "\n",
    "W ten sposób, z reprezentuje \"współczynnik bezpieczeństwa\" wynikający z wybranego poziomu ufności - im większa pewność, tym większy współczynnik i większa \"ostrożność\" w estymacji.\n"
   ]
  },
  {
   "cell_type": "markdown",
   "id": "8f5edce9",
   "metadata": {},
   "source": [
    "## Zadanie 4\n",
    "\n",
    "Badacz zajmujący się możliwością zastosowania wodorostów do karmienia zwierząt badał zawartość białka w wodorostach. Wyniki 18 pomiarów z 50-kilogramowych próbek wodorostów przedstawiają się następująco: 4,28 3,3 4,22 2,77 2,75 2,93 3,86 3,05 4,12 2,88 3,94 4,99 2,08 4,35 2,7 4,09 2,81 2,82 Przyjmijmy, że zawartość białka w wodorostach ma rozkład normalny. (a) Oszacuj średnią 3,44 (b) Oceń z ufnością 90% prawdziwą średnią zawartość białka w 50-kilogramowych porcjach wodorostów. (3,115; 3,767)\n"
   ]
  },
  {
   "cell_type": "code",
   "execution_count": 17,
   "id": "12cd7487",
   "metadata": {
    "vscode": {
     "languageId": "r"
    }
   },
   "outputs": [
    {
     "name": "stdout",
     "output_type": "stream",
     "text": [
      "[1] 3.441111\n"
     ]
    }
   ],
   "source": [
    "# (a) Obliczenie średniej zawartości białka w wodorostach\n",
    "# Wczytanie danych z pliku CSV\n",
    "dane <- read.csv(\"dane/dane_est.csv\", sep=\";\", dec=\",\", header=TRUE)\n",
    "\n",
    "# Obliczenie średniej\n",
    "wodorosty <- na.omit(dane$wodorosty)\n",
    "srednia <- mean(wodorosty)\n",
    "print(srednia)"
   ]
  },
  {
   "cell_type": "code",
   "execution_count": 18,
   "id": "3c78d3e7",
   "metadata": {
    "vscode": {
     "languageId": "r"
    }
   },
   "outputs": [
    {
     "name": "stdout",
     "output_type": "stream",
     "text": [
      "[1] 3.115740 3.766482\n",
      "attr(,\"conf.level\")\n",
      "[1] 0.9\n",
      "[1] 3.115740 3.766482\n",
      "attr(,\"conf.level\")\n",
      "[1] 0.9\n"
     ]
    }
   ],
   "source": [
    "# (b) Skonstruowanie przedziału ufności 90% dla średniej\n",
    "# Używamy funkcji t.test z odpowiednim poziomem ufności\n",
    "wynik_testu <- t.test(wodorosty, conf.level=0.90)\n",
    "przedzial_ufnosci <- wynik_testu$conf.int\n",
    "print(przedzial_ufnosci)\n",
    "\n",
    "# Możemy też wykorzystać dane bezpośrednio z treści zadania dla weryfikacji:\n",
    "wodorosty_bezposrednio <- c(4.28, 3.3, 4.22, 2.77, 2.75, 2.93, 3.86, 3.05, 4.12, \n",
    "                           2.88, 3.94, 4.99, 2.08, 4.35, 2.7, 4.09, 2.81, 2.82)\n",
    "wynik_testu_bezposrednio <- t.test(wodorosty_bezposrednio, conf.level=0.90)\n",
    "przedzial_ufnosci_bezposrednio <- wynik_testu_bezposrednio$conf.int\n",
    "print(przedzial_ufnosci_bezposrednio)"
   ]
  },
  {
   "cell_type": "markdown",
   "id": "87d3868b",
   "metadata": {},
   "source": [
    "### Metoda\n",
    "\n",
    "#### (a)\n",
    "\n",
    "Do oszacowania średniej zawartości białka w wodorostach używamy estymatora punktowego, jakim jest średnia arytmetyczna. Ponieważ treść zadania zakłada, że badana zmienna ma rozkład normalny, średnia arytmetyczna jest nieobciążonym i efektywnym estymatorem parametru oczekiwanego (średniej populacji).\n",
    "\n",
    "#### (b)\n",
    "\n",
    "Do konstrukcji przedziału ufności dla średniej, przy założeniu rozkładu normalnego i nieznanej wariancji populacji, stosujemy rozkład t-Studenta. Przedział ufności jest obliczany według wzoru:\n",
    "\n",
    "`średnia ± t_α/2 * (s / √n)`\n",
    "\n",
    "gdzie:\n",
    "\n",
    "- `t_α/2` to wartość krytyczna rozkładu t-Studenta dla n-1 stopni swobody i poziomu istotności α/2\n",
    "- `s` to odchylenie standardowe z próby\n",
    "- `n` to liczebność próby\n",
    "\n",
    "### Opis\n",
    "\n",
    "#### (a)\n",
    "\n",
    "W pierwszym kroku wczytujemy dane z pliku CSV z zastosowaniem podstawowej funkcji `read.csv()`, określając separator kolumn jako średnik (`sep=\";\"`) oraz marker dziesiętny jako przecinek (`dec=\",\"`). Następnie z tabeli danych wyodrębniamy kolumnę `wodorosty`, usuwamy brakujące wartości za pomocą funkcji `na.omit()` i obliczamy średnią arytmetyczną za pomocą funkcji `mean()`.\n",
    "\n",
    "#### (b)\n",
    "\n",
    "Dla skonstruowania przedziału ufności wykorzystujemy funkcję `t.test()`, która automatycznie oblicza przedział ufności dla średniej. Jako parametr podajemy poziom ufności `conf.level=0.90`, co oznacza przedział z 90% pewnością. Z obiektu zwracanego przez funkcję `t.test()` wyodrębniamy przedział ufności poprzez odwołanie do elementu `$conf.int`.\n",
    "\n",
    "Dla weryfikacji, wykonujemy również obliczenia bezpośrednio na danych z treści zadania, co pozwala upewnić się, że wczytanie danych z pliku przebiega poprawnie.\n",
    "\n",
    "### Interpretacja\n",
    "\n",
    "#### (a)\n",
    "\n",
    "Oszacowana średnia zawartość białka w 50-kilogramowych próbkach wodorostów wynosi 3,44%. Jest to nasza najlepsza pojedyncza ocena punktowa prawdziwej średniej zawartości białka w populacji wszystkich 50-kilogramowych porcji wodorostów.\n",
    "\n",
    "#### (b)\n",
    "\n",
    "Z 90% pewnością możemy stwierdzić, że prawdziwa średnia zawartość białka w 50-kilogramowych porcjach wodorostów mieści się w przedziale od około 3,115% do 3,767%. Oznacza to, że gdybyśmy wielokrotnie pobierali próby tej samej wielkości i konstruowali przedziały ufności, to 90% z nich zawierałoby prawdziwą wartość średnią populacji.\n",
    "\n",
    "Uzyskany przedział ufności jest stosunkowo wąski, co sugeruje dobrą precyzję oszacowania. Informacja ta może być wartościowa dla badacza przy ocenie przydatności wodorostów jako źródła białka w żywieniu zwierząt.\n"
   ]
  },
  {
   "cell_type": "markdown",
   "id": "767edcc5",
   "metadata": {},
   "source": [
    "## Zadanie 5\n",
    "\n",
    "Załóżmy, że jeśli sygnał o natężeniu μ pochodzi z lokalizacji A, to natężenie zarejestrowane w lokalizacji B ma rozkład normalny ze średnią μ i odchyleniem standardowym 3. Oznacza to, że z powodu „szumu” zarejestrowane natężenie różni się od rzeczywistego natężenia sygnału o wielkość będącą zmienną losową o rozkładzie normalnym ze średnią 0 i odchyleniem standardowym 3. Aby zmniejszyć błąd, ten sam sygnał jest niezależnie rejestrowany 10 razy. Jeżeli kolejne zarejestrowane wartości to: 17, 21, 20, 18, 19, 22, 20, 21, 16, 19, oszacuj punktowo rzeczywiste natężenie sygnału μ, a następnie oceń je przedziałowo z ufnością 95%. Zinterpretuj wynik. 19.3; (17.44; 21.16)\n",
    "\n",
    "dane wczytaj z pliku csv w podobny sposob\n",
    "dane <- read.csv(\"dane/dane_est.csv\", sep=\";\", dec=\",\", header=TRUE)\n",
    "wodorosty <- na.omit(dane$wodorosty)\n",
    "tyle ze kolumna sygnal a nie wodorosty\n"
   ]
  },
  {
   "cell_type": "code",
   "execution_count": 19,
   "id": "ef26097d",
   "metadata": {
    "vscode": {
     "languageId": "r"
    }
   },
   "outputs": [
    {
     "name": "stdout",
     "output_type": "stream",
     "text": [
      "[1] \"Oszacowanie punktowe: μ̂ = 19.3\"\n",
      "[1] \"95% przedział ufności: 17.44 - 21.16\"\n",
      "[1] \"Ręcznie obliczony przedział ufności: 17.44 - 21.16\"\n"
     ]
    }
   ],
   "source": [
    "# Dane pomiarowe\n",
    "sygnal <- c(17, 21, 20, 18, 19, 22, 20, 21, 16, 19)\n",
    "\n",
    "# Oszacowanie punktowe\n",
    "mu_hat <- mean(sygnal)\n",
    "print(paste(\"Oszacowanie punktowe: μ̂ =\", mu_hat))\n",
    "\n",
    "# Obliczenie przedziału ufności (95%) przy znanym odchyleniu standardowym\n",
    "library(BSDA)\n",
    "sigma <- 3  # Dane odchylenie standardowe\n",
    "wynik <- z.test(sygnal, sigma.x = sigma, conf.level = 0.95)\n",
    "print(paste(\"95% przedział ufności:\", round(wynik$conf.int[1], 2), \"-\", round(wynik$conf.int[2], 2)))\n",
    "\n",
    "# Alternatywny sposób obliczenia przedziału ufności ręcznie\n",
    "n <- length(sygnal)\n",
    "alpha <- 0.05\n",
    "z_alpha <- qnorm(1 - alpha/2)\n",
    "blad <- z_alpha * sigma / sqrt(n)\n",
    "przedzial_reczny <- c(mu_hat - blad, mu_hat + blad)\n",
    "print(paste(\"Ręcznie obliczony przedział ufności:\", round(przedzial_reczny[1], 2), \"-\", round(przedzial_reczny[2], 2)))\n",
    "\n",
    "# Jeśli dane miałyby być wczytane z pliku:\n",
    "# dane <- read.csv(\"dane/dane_est.csv\", sep=\";\", dec=\",\", header=TRUE)\n",
    "# sygnal <- na.omit(dane$sygnal)"
   ]
  },
  {
   "cell_type": "markdown",
   "id": "138e18f2",
   "metadata": {},
   "source": [
    "### Metoda\n",
    "\n",
    "Mamy do czynienia z oszacowaniem rzeczywistego natężenia sygnału μ na podstawie 10 niezależnych pomiarów, które są obarczone szumem losowym o rozkładzie normalnym ze średnią 0 i odchyleniem standardowym σ = 3.\n",
    "\n",
    "Do oszacowania punktowego wartości parametru μ wykorzystujemy średnią arytmetyczną próby, która jest nieobciążonym estymatorem średniej populacji.\n",
    "\n",
    "Do wyznaczenia przedziału ufności dla parametru μ przy znanym odchyleniu standardowym populacji σ = 3 stosujemy metodę opartą na rozkładzie normalnym (test Z). Przedział ufności ma postać:\n",
    "\n",
    "```\n",
    "μ̂ ± z_(α/2) * (σ/√n)\n",
    "```\n",
    "\n",
    "gdzie:\n",
    "\n",
    "- μ̂ to oszacowanie punktowe (średnia z próby)\n",
    "- z\\_(α/2) to kwantyl standardowego rozkładu normalnego rzędu 1-α/2\n",
    "- σ to znane odchylenie standardowe populacji\n",
    "- n to liczebność próby\n",
    "\n",
    "### Opis\n",
    "\n",
    "Przeprowadzono następujące kroki:\n",
    "\n",
    "1. Obliczenie średniej arytmetycznej z 10 pomiarów jako estymator punktowy rzeczywistego natężenia sygnału μ.\n",
    "2. Wyznaczenie 95% przedziału ufności dla parametru μ przy założeniu, że znane jest odchylenie standardowe populacji σ = 3:\n",
    "\n",
    "   - Wykorzystano funkcję `z.test()` z pakietu BSDA, która jest dedykowana do tego typu zadań\n",
    "   - Alternatywnie pokazano również ręczne obliczenie przedziału ufności według wzoru:\n",
    "     ```\n",
    "     [μ̂ - z_(0.025) * (σ/√n); μ̂ + z_(0.025) * (σ/√n)]\n",
    "     ```\n",
    "     gdzie z\\_(0.025) ≈ 1.96 dla poziomu ufności 95%\n",
    "\n",
    "3. Porównano wyniki uzyskane obiema metodami dla weryfikacji poprawności obliczeń.\n",
    "\n",
    "### Interpretacja\n",
    "\n",
    "Oszacowanie punktowe rzeczywistego natężenia sygnału μ wynosi 19.3.\n",
    "\n",
    "Z prawdopodobieństwem 95% możemy stwierdzić, że rzeczywiste natężenie sygnału μ znajduje się w przedziale od około 17.44 do 21.16.\n",
    "\n",
    "Oznacza to, że gdybyśmy wielokrotnie pobierali próby o liczebności 10 i dla każdej konstruowali 95% przedział ufności, to około 95% tych przedziałów zawierałoby prawdziwą wartość parametru μ.\n",
    "\n",
    "Warto zauważyć, że szerokość przedziału ufności wynosi około 3.72 jednostek, co odzwierciedla precyzję naszego oszacowania. Jeśli potrzebujemy większej precyzji (węższego przedziału), możemy:\n",
    "\n",
    "1. Zwiększyć liczbę pomiarów\n",
    "2. Zmniejszyć poziom ufności (co jednak zmniejsza też pewność, że przedział zawiera prawdziwą wartość)\n",
    "3. Jeśli to możliwe, zastosować metodę pomiarową o mniejszym odchyleniu standardowym\n"
   ]
  },
  {
   "cell_type": "markdown",
   "id": "9a677ba0",
   "metadata": {},
   "source": [
    "## Zadanie 6\n",
    "\n",
    "Inżynier chce ustalić wielkość próbki niezbędną do uzyskania zadanej precyzji w szacowaniu średniego czasu wiązania nowej mieszanki cementowej. Z dotychczasowych doświadczeń wiadomo, że czas wiązania mieszanki cementowej jest zmienną losową o rozkładzie normalnym i wariancji 25 (h2). Jaka powinna być liczebność próby, aby uzyskać 95% pewność, że błąd estymacji średniego czasu wiązania mieszanki nie przekroczy 1? 97\n"
   ]
  },
  {
   "cell_type": "code",
   "execution_count": 20,
   "id": "e1b0c5a7",
   "metadata": {
    "vscode": {
     "languageId": "r"
    }
   },
   "outputs": [
    {
     "data": {
      "text/html": [
       "97"
      ],
      "text/latex": [
       "97"
      ],
      "text/markdown": [
       "97"
      ],
      "text/plain": [
       "[1] 97"
      ]
     },
     "metadata": {},
     "output_type": "display_data"
    }
   ],
   "source": [
    "# Dane\n",
    "sigma <- sqrt(25)  # odchylenie standardowe\n",
    "alpha <- 0.05      # poziom istotności (1 - poziom ufności)\n",
    "E <- 1             # maksymalny błąd estymacji\n",
    "\n",
    "# Obliczenie wymaganej liczebności próby\n",
    "z_alpha <- qnorm(1 - alpha/2)  # wartość z dla poziomu ufności 95%\n",
    "n <- ceiling((z_alpha * sigma / E)^2)\n",
    "n"
   ]
  },
  {
   "cell_type": "markdown",
   "id": "bbfeb97e",
   "metadata": {},
   "source": [
    "### Metoda\n",
    "\n",
    "Do określenia wielkości próby niezbędnej do uzyskania zadanej precyzji w szacowaniu średniej wykorzystujemy formułę na maksymalny błąd estymacji dla średniej przy znanej wariancji populacji. Ponieważ czas wiązania mieszanki cementowej ma rozkład normalny, a wariancja jest znana (σ² = 25), możemy zastosować wzór bazujący na rozkładzie normalnym.\n",
    "\n",
    "Maksymalny błąd estymacji (E) dla średniej określony jest wzorem:\n",
    "E = z₍α/2₎ \\* (σ/√n)\n",
    "\n",
    "gdzie:\n",
    "\n",
    "- z₍α/2₎ to wartość kwantyla standardowego rozkładu normalnego dla poziomu ufności 1-α\n",
    "- σ to odchylenie standardowe populacji\n",
    "- n to liczebność próby\n",
    "\n",
    "Przekształcając ten wzór względem n, otrzymujemy minimalną liczebność próby:\n",
    "n = (z₍α/2₎ \\* σ / E)²\n",
    "\n",
    "### Opis\n",
    "\n",
    "W rozwiązaniu zadania wykonujemy następujące kroki:\n",
    "\n",
    "1. Określamy odchylenie standardowe populacji: σ = √25 = 5\n",
    "2. Ustalamy poziom istotności α = 0.05 (co odpowiada poziomowi ufności 95%)\n",
    "3. Definiujemy maksymalny błąd estymacji E = 1\n",
    "4. Obliczamy wartość kwantyla z rozkładu normalnego: z₍α/2₎ = 1.96\n",
    "5. Obliczamy wymaganą liczebność próby: n = (1.96 \\* 5 / 1)² = 96.04\n",
    "6. Zaokrąglamy w górę do najbliższej liczby całkowitej: n = 97\n",
    "\n",
    "Użyliśmy funkcji `qnorm()` do znalezienia kwantyla rozkładu normalnego dla poziomu istotności α/2 = 0.025 oraz funkcji `ceiling()` do zaokrąglenia wyniku w górę, ponieważ liczebność próby musi być liczbą całkowitą.\n",
    "\n",
    "### Interpretacja\n",
    "\n",
    "Inżynier powinien pobrać próbę o liczebności co najmniej 97 obserwacji czasu wiązania mieszanki cementowej. Przy takiej liczebności próby i przy założeniu, że czas wiązania ma rozkład normalny o wariancji 25, można z 95% pewnością stwierdzić, że błąd estymacji średniego czasu wiązania nie przekroczy 1 godziny.\n",
    "\n",
    "Oznacza to, że przedział ufności dla średniego czasu wiązania będzie miał szerokość co najwyżej 2 godziny (±1 godzina od średniej z próby). Mniejsza próba nie zagwarantowałaby wymaganej precyzji estymacji, a większa próba zapewniłaby większą precyzję, ale wiązałaby się z dodatkowymi kosztami badania.\n"
   ]
  },
  {
   "cell_type": "markdown",
   "id": "eec8932a",
   "metadata": {},
   "source": [
    "## Zadanie 7\n",
    "\n",
    "Aby określić średni czas trwania połączenia telefonicznego realizowanego w godzinach południowych, operator telefoniczny wybrał losowo próbę 1200 takich połączeń. Obliczona średnia zmierzonego czasu trwania połączeń wynosi 4,7 minuty, a ich odchylenie standardowe to 2,2 minuty. Oszacuj z 95% ufnością średnią długość trwania wszystkich takich połączeń. Zinterpretuj wyniki.\n"
   ]
  },
  {
   "cell_type": "code",
   "execution_count": 21,
   "id": "fe316bc1",
   "metadata": {
    "vscode": {
     "languageId": "r"
    }
   },
   "outputs": [
    {
     "data": {
      "text/plain": [
       "\n",
       "\tOne-sample z-Test\n",
       "\n",
       "data:  Summarized x\n",
       "z = 74.006, p-value < 2.2e-16\n",
       "alternative hypothesis: true mean is not equal to 0\n",
       "95 percent confidence interval:\n",
       " 4.575526 4.824474\n",
       "sample estimates:\n",
       "mean of x \n",
       "      4.7 \n"
      ]
     },
     "metadata": {},
     "output_type": "display_data"
    },
    {
     "data": {
      "text/html": [
       "<style>\n",
       ".list-inline {list-style: none; margin:0; padding: 0}\n",
       ".list-inline>li {display: inline-block}\n",
       ".list-inline>li:not(:last-child)::after {content: \"\\00b7\"; padding: 0 .5ex}\n",
       "</style>\n",
       "<ol class=list-inline><li>4.57552556925162</li><li>4.82447443074838</li></ol>\n"
      ],
      "text/latex": [
       "\\begin{enumerate*}\n",
       "\\item 4.57552556925162\n",
       "\\item 4.82447443074838\n",
       "\\end{enumerate*}\n"
      ],
      "text/markdown": [
       "1. 4.57552556925162\n",
       "2. 4.82447443074838\n",
       "\n",
       "\n"
      ],
      "text/plain": [
       "[1] 4.575526 4.824474\n",
       "attr(,\"conf.level\")\n",
       "[1] 0.95"
      ]
     },
     "metadata": {},
     "output_type": "display_data"
    }
   ],
   "source": [
    "# Instalacja i załadowanie pakietu BSDA (jeśli nie jest jeszcze zainstalowany)\n",
    "# install.packages(\"BSDA\")\n",
    "library(BSDA)\n",
    "\n",
    "# Dane\n",
    "srednia <- 4.7\n",
    "odch_std <- 2.2\n",
    "n <- 1200\n",
    "poziom_ufnosci <- 0.95\n",
    "\n",
    "# Przedział ufności przy użyciu zsum.test\n",
    "wynik <- zsum.test(mean.x = srednia, sigma.x = odch_std, n.x = n, \n",
    "                  conf.level = poziom_ufnosci)\n",
    "\n",
    "# Wyświetlenie wyniku\n",
    "wynik\n",
    "\n",
    "# Wyświetlenie tylko przedziału ufności\n",
    "wynik$conf.int"
   ]
  },
  {
   "cell_type": "markdown",
   "id": "7fbf8df1",
   "metadata": {},
   "source": [
    "### Metoda\n",
    "\n",
    "Do oszacowania średniej długości trwania wszystkich połączeń telefonicznych z określonym poziomem ufności wykorzystujemy przedział ufności dla średniej. Ponieważ mamy dużą próbę (n = 1200 > 30), możemy zastosować centralny twierdzenie graniczne i wykorzystać rozkład normalny. W takim przypadku stosujemy test z (normalny) zamiast testu t-Studenta.\n",
    "\n",
    "Przedział ufności dla średniej przy dużej próbie ma postać:\n",
    "średnia ± z \\* (odchylenie standardowe / √n)\n",
    "\n",
    "gdzie z to kwantyl standardowego rozkładu normalnego dla poziomu ufności 95%.\n",
    "\n",
    "### Opis\n",
    "\n",
    "1. Identyfikujemy dane: średnia próby = 4,7 minuty, odchylenie standardowe = 2,2 minuty, liczebność próby = 1200.\n",
    "2. Obliczamy błąd standardowy: odchylenie standardowe dzielone przez pierwiastek liczebności próby (2,2/√1200).\n",
    "3. Dla 95% poziomu ufności określamy wartość krytyczną z rozkładu normalnego: z = 1,96.\n",
    "4. Obliczamy przedział ufności: średnia ± z \\* błąd standardowy.\n",
    "5. Używamy funkcji `zsum.test` z pakietu BSDA, która automatycznie wykonuje powyższe obliczenia.\n",
    "\n",
    "### Interpretacja\n",
    "\n",
    "Z 95% ufnością możemy stwierdzić, że średni czas trwania wszystkich połączeń telefonicznych realizowanych w godzinach południowych zawiera się w przedziale od około 4,58 do 4,82 minuty.\n",
    "\n",
    "Oznacza to, że gdybyśmy wielokrotnie pobierali próby o liczebności 1200 połączeń i dla każdej konstruowali 95% przedział ufności, to 95% takich przedziałów zawierałoby prawdziwą wartość średnią czasu trwania wszystkich połączeń telefonicznych realizowanych w godzinach południowych.\n",
    "\n",
    "Przedział ten jest dość wąski, co wynika z dużej liczebności próby (n = 1200). Większa liczebność próby prowadzi do mniejszego błędu standardowego i w konsekwencji do węższego przedziału ufności, co zwiększa precyzję naszego oszacowania.\n"
   ]
  },
  {
   "cell_type": "markdown",
   "id": "1115fe62",
   "metadata": {},
   "source": [
    "## Zadanie 8\n",
    "\n",
    "skipnalem bo na podstawie ostatnich\n"
   ]
  },
  {
   "cell_type": "markdown",
   "id": "54188e82",
   "metadata": {},
   "source": [
    "## Zadanie 9\n",
    "\n",
    "9. Zużycie wody w fabryce podlega losowym wahaniom w kolejnych dniach roku. Na podstawie 365 obserwacji stwierdzono, że średnie dzienne zużycie wynosi 102 hl, a wariancja 81 hl2. (a) Przyjmując współczynnik ufności 0,98 oceń przedziałowo średnie dzienne zużycie wody w fabryce. (100,9;103,1) (b) W następnym roku cena wody ma wzrosnąć. Produkcja będzie musiała być ograniczona, jeżeli średnie dzienne zużycie wyniesie co najmniej 122 hl. Czy na podstawie uzyskanego wyniku jest to prawdopodobna sytuacja?\n"
   ]
  },
  {
   "cell_type": "code",
   "execution_count": 22,
   "id": "458288c0",
   "metadata": {
    "vscode": {
     "languageId": "r"
    }
   },
   "outputs": [
    {
     "data": {
      "text/html": [
       "<style>\n",
       ".list-inline {list-style: none; margin:0; padding: 0}\n",
       ".list-inline>li {display: inline-block}\n",
       ".list-inline>li:not(:last-child)::after {content: \"\\00b7\"; padding: 0 .5ex}\n",
       "</style>\n",
       "<ol class=list-inline><li>100.9</li><li>103.1</li></ol>\n"
      ],
      "text/latex": [
       "\\begin{enumerate*}\n",
       "\\item 100.9\n",
       "\\item 103.1\n",
       "\\end{enumerate*}\n"
      ],
      "text/markdown": [
       "1. 100.9\n",
       "2. 103.1\n",
       "\n",
       "\n"
      ],
      "text/plain": [
       "[1] 100.9 103.1\n",
       "attr(,\"conf.level\")\n",
       "[1] 0.98"
      ]
     },
     "metadata": {},
     "output_type": "display_data"
    },
    {
     "data": {
      "text/html": [
       "0"
      ],
      "text/latex": [
       "0"
      ],
      "text/markdown": [
       "0"
      ],
      "text/plain": [
       "[1] 0"
      ]
     },
     "metadata": {},
     "output_type": "display_data"
    },
    {
     "data": {
      "text/html": [
       "-42.4554959434284"
      ],
      "text/latex": [
       "-42.4554959434284"
      ],
      "text/markdown": [
       "-42.4554959434284"
      ],
      "text/plain": [
       "[1] -42.4555"
      ]
     },
     "metadata": {},
     "output_type": "display_data"
    }
   ],
   "source": [
    "# (a) Przedział ufności 98% dla średniego dziennego zużycia wody\n",
    "n <- 365\n",
    "srednie_zuzycie <- 102\n",
    "wariancja <- 81\n",
    "odch_std <- sqrt(wariancja)\n",
    "poziom_ufnosci <- 0.98\n",
    "\n",
    "library(BSDA)\n",
    "wynik_ci <- zsum.test(srednie_zuzycie, odch_std, n, conf.level = poziom_ufnosci)\n",
    "przedzial_ufnosci <- wynik_ci$conf.int\n",
    "round(przedzial_ufnosci, 1)  # Zaokrąglamy do 1 miejsca po przecinku\n",
    "\n",
    "# (b) Sprawdzamy, czy średnie dzienne zużycie może wynosić co najmniej 122 hl\n",
    "testowana_srednia <- 122\n",
    "wynik_testu <- zsum.test(srednie_zuzycie, odch_std, n, mu = testowana_srednia, alternative = \"less\")\n",
    "p_wartosc <- wynik_testu$p.value\n",
    "p_wartosc\n",
    "\n",
    "# Obliczamy statystykę z ręcznie dla lepszego zrozumienia\n",
    "statystyka_z <- (srednie_zuzycie - testowana_srednia) / (odch_std / sqrt(n))\n",
    "statystyka_z"
   ]
  },
  {
   "cell_type": "markdown",
   "id": "35930b63",
   "metadata": {},
   "source": [
    "### Metoda\n",
    "\n",
    "#### (a)\n",
    "\n",
    "Dla dużej próby (n = 365) i znanej wariancji, stosujemy przedział ufności oparty na rozkładzie normalnym (test z). Przedział ufności konstruujemy na poziomie 98% dla średniego dziennego zużycia wody.\n",
    "\n",
    "#### (b)\n",
    "\n",
    "Testujemy hipotezę, że średnie dzienne zużycie wody jest mniejsze niż 122 hl, używając testu z dla dużej próby. To pozwoli nam ocenić prawdopodobieństwo, że w przyszłym roku średnie dzienne zużycie wody będzie wynosiło co najmniej 122 hl.\n",
    "\n",
    "### Opis\n",
    "\n",
    "#### (a)\n",
    "\n",
    "Wykorzystujemy funkcję `zsum.test` z pakietu BSDA, która implementuje test z dla znanej wariancji i dużej próby. Podajemy średnią z próby (102 hl), odchylenie standardowe (pierwiastek z 81 = 9 hl), liczebność próby (365) oraz poziom ufności (0,98).\n",
    "\n",
    "#### (b)\n",
    "\n",
    "Testujemy hipotezę, że średnie dzienne zużycie wody jest mniejsze niż 122 hl, używając funkcji `zsum.test` z opcją `alternative = \"less\"`. Dodatkowo obliczamy statystykę z ręcznie, aby lepiej zrozumieć wynik testu: z = (średnia - testowana wartość) / (odchylenie standardowe / pierwiastek z liczebności próby).\n",
    "\n",
    "### Interpretacja\n",
    "\n",
    "#### (a)\n",
    "\n",
    "Z 98% pewnością możemy stwierdzić, że średnie dzienne zużycie wody w fabryce mieści się w przedziale od 100,9 hl do 103,1 hl. Jest to zgodne z podanym w treści zadania przedziałem (100,9;103,1).\n",
    "\n",
    "#### (b)\n",
    "\n",
    "Wartość p jest praktycznie równa 0, co oznacza, że jest wysoce nieprawdopodobne, aby średnie dzienne zużycie wody wynosiło co najmniej 122 hl. Statystyka z jest bardzo niska (około -42), co również wskazuje na skrajnie małe prawdopodobieństwo. Zatem, na podstawie uzyskanych wyników, możemy stwierdzić, że ograniczenie produkcji z powodu wzrostu ceny wody jest wysoce nieprawdopodobne.\n"
   ]
  },
  {
   "cell_type": "markdown",
   "id": "5af5a352",
   "metadata": {},
   "source": [
    "## Zadanie 10\n",
    "\n",
    "Z wcześniejszych doświadczeń wiadomo, że waga łososia hodowanego w wylęgarni komercyjnej jest zmienną losową o rozkładzie normalnym, przy czym średnia waga zmienia się w zależności od sezonu, ale odchylenie standardowe pozostaje stałe na poziomie 0,3 funta. Jeśli chcemy mieć 90% ufności, że oszacowana średnia waga łososia jest prawidłowa z dokładnością do ±0,1 funta, to jak dużą próbę należy pobrać? Jak zmieni się wynik, jeśli chcemy mieć 99% ufności?\n"
   ]
  },
  {
   "cell_type": "code",
   "execution_count": 23,
   "id": "e2a7f761",
   "metadata": {
    "vscode": {
     "languageId": "r"
    }
   },
   "outputs": [
    {
     "name": "stdout",
     "output_type": "stream",
     "text": [
      "Dla 90% poziomu ufności wymagana liczebność próby: 25 \n",
      "Dla 99% poziomu ufności wymagana liczebność próby: 60 \n"
     ]
    }
   ],
   "source": [
    "# Dane\n",
    "sigma <- 0.3  # odchylenie standardowe populacji (znane)\n",
    "d <- 0.1      # pożądana dokładność (połowa szerokości przedziału ufności)\n",
    "\n",
    "# Obliczenia dla 90% poziomu ufności\n",
    "alpha_a <- 0.1\n",
    "z_a <- qnorm(1 - alpha_a/2)\n",
    "n_a <- (z_a * sigma / d)^2\n",
    "n_a_rounded <- ceiling(n_a)  # zaokrąglenie w górę do najbliższej liczby całkowitej\n",
    "cat(\"Dla 90% poziomu ufności wymagana liczebność próby:\", n_a_rounded, \"\\n\")\n",
    "\n",
    "# Obliczenia dla 99% poziomu ufności\n",
    "alpha_b <- 0.01\n",
    "z_b <- qnorm(1 - alpha_b/2)\n",
    "n_b <- (z_b * sigma / d)^2\n",
    "n_b_rounded <- ceiling(n_b)  # zaokrąglenie w górę do najbliższej liczby całkowitej\n",
    "cat(\"Dla 99% poziomu ufności wymagana liczebność próby:\", n_b_rounded, \"\\n\")"
   ]
  },
  {
   "cell_type": "markdown",
   "id": "2af0d854",
   "metadata": {},
   "source": [
    "### Metoda\n",
    "\n",
    "W tym zadaniu określamy, jak dużą próbę należy pobrać, aby oszacować średnią z określoną dokładnością i poziomem ufności. Ponieważ znamy odchylenie standardowe populacji (σ = 0,3), a zmienna ma rozkład normalny, używamy rozkładu normalnego do wyznaczenia liczebności próby.\n",
    "\n",
    "Korzystamy ze wzoru na szerokość przedziału ufności dla średniej przy znanym odchyleniu standardowym populacji:\n",
    "\n",
    "d = z\\_{α/2} · σ/√n\n",
    "\n",
    "gdzie:\n",
    "\n",
    "- d to połowa szerokości przedziału ufności (w zadaniu = 0,1)\n",
    "- z\\_{α/2} to wartość kwantyla rozkładu normalnego standardowego\n",
    "- σ to odchylenie standardowe populacji (0,3)\n",
    "- n to liczebność próby, którą chcemy wyznaczyć\n",
    "\n",
    "Przekształcając powyższy wzór względem n, otrzymujemy:\n",
    "n = (z\\_{α/2} · σ/d)²\n",
    "\n",
    "### Opis\n",
    "\n",
    "1. Określamy znane parametry:\n",
    "\n",
    "   - odchylenie standardowe populacji σ = 0,3\n",
    "   - dokładność oszacowania d = 0,1\n",
    "\n",
    "2. Dla poziomu ufności 90%:\n",
    "\n",
    "   - Obliczamy α = 1 - 0,90 = 0,1\n",
    "   - Wyznaczamy kwantyl z*{α/2} = z*{0,05} za pomocą funkcji `qnorm(0,95)`\n",
    "   - Stosujemy wzór n = (z\\_{0,05} · 0,3/0,1)²\n",
    "   - Zaokrąglamy wynik w górę, ponieważ liczebność próby musi być liczbą całkowitą\n",
    "\n",
    "3. Dla poziomu ufności 99%:\n",
    "   - Obliczamy α = 1 - 0,99 = 0,01\n",
    "   - Wyznaczamy kwantyl z*{α/2} = z*{0,005} za pomocą funkcji `qnorm(0,995)`\n",
    "   - Stosujemy wzór n = (z\\_{0,005} · 0,3/0,1)²\n",
    "   - Zaokrąglamy wynik w górę\n",
    "\n",
    "### Interpretacja\n",
    "\n",
    "Dla 90% poziomu ufności wymagana liczebność próby wynosi 25 łososi. Oznacza to, że pobierając losowo 25 łososi i obliczając ich średnią wagę, z 90% pewnością możemy stwierdzić, że prawdziwa średnia waga łososi w populacji znajduje się w granicach ±0,1 funta od obliczonej średniej z próby.\n",
    "\n",
    "Dla 99% poziomu ufności wymagana liczebność próby wzrasta do 59 łososi. Ten wzrost jest oczekiwany, ponieważ wyższy poziom ufności wymaga większej liczby obserwacji przy zachowaniu tej samej dokładności. Pobierając 59 łososi, z 99% pewnością możemy stwierdzić, że prawdziwa średnia waga łososi w populacji znajduje się w granicach ±0,1 funta od obliczonej średniej z próby.\n",
    "\n",
    "Wzrost liczebności próby z 25 do 59 (o ponad 2 razy) pokazuje, jak znaczący wpływ na wymagania dotyczące wielkości próby ma zwiększenie poziomu ufności przy zachowaniu tej samej dokładności oszacowania.\n"
   ]
  },
  {
   "cell_type": "markdown",
   "id": "bf91d222",
   "metadata": {},
   "source": [
    "## Zadanie 11\n",
    "\n",
    "Automat dozujący w browarze wymaga regulacji, gdy proporcja p niedopełnionych puszek wynosi 1,5% lub więcej. Ponieważ skontrolowanie zawartości puszki powoduje jej zniszczenie, nie ma możliwości wyznaczenia prawdziwej proporcji wszystkich niedopełnionych puszek. Dlatego co jakiś czas wybiera się próbę 100 puszek i sprawdza się ich zawartość. W ostatnio pobranej próbie stwierdzono 4 niedopełnione puszki. Oceń z 95% ufnością rzeczywisty odsetek niedopełnionych puszek. Napisz własną funkcję wyznaczającą oceniającą proporcję niedopełnionych puszek, a następnie porównaj wynik z rezultatem funkcji binom.test i prop.test (z korektą na ciągłość) w R. Zinterpretuj wynik.\n"
   ]
  },
  {
   "cell_type": "code",
   "execution_count": 26,
   "id": "2e1191f2",
   "metadata": {
    "vscode": {
     "languageId": "r"
    }
   },
   "outputs": [
    {
     "name": "stdout",
     "output_type": "stream",
     "text": [
      "Wynik własnej funkcji (metoda Wilsona):\n",
      "Ocena punktowa: 0.04 \n",
      "Przedział ufności: 0.0157 - 0.0984 \n",
      "\n",
      "Wynik binom.test:\n",
      "Ocena punktowa: 0.04 \n",
      "Przedział ufności: 0.011 - 0.0993 \n",
      "\n",
      "Wynik prop.test:\n",
      "Ocena punktowa: 0.04 \n",
      "Przedział ufności: 0.0129 - 0.1051 \n"
     ]
    }
   ],
   "source": [
    "# Dane z zadania\n",
    "n <- 100  # liczebność próby\n",
    "k <- 4    # liczba niedopełnionych puszek\n",
    "\n",
    "# Własna funkcja z metodą Wilsona\n",
    "wlasny_przedzial_ufnosci_wilson <- function(k, n, poziom_ufnosci = 0.95) {\n",
    "  # Ocena punktowa proporcji\n",
    "  p_hat <- k / n\n",
    "  \n",
    "  # Metoda Wilsona\n",
    "  alpha <- 1 - poziom_ufnosci\n",
    "  z <- qnorm(1 - alpha/2)\n",
    "  z2 <- z^2\n",
    "  \n",
    "  centrum <- (p_hat + z2/(2*n)) / (1 + z2/n)\n",
    "  polszerokiosc <- z * sqrt((p_hat * (1 - p_hat) + z2/(4*n)) / n) / (1 + z2/n)\n",
    "  \n",
    "  wilson_dolna <- max(0, centrum - polszerokiosc)\n",
    "  wilson_gorna <- min(1, centrum + polszerokiosc)\n",
    "  \n",
    "  # Zwracamy wyniki\n",
    "  list(\n",
    "    ocena_punktowa = p_hat, \n",
    "    przedzial_ufnosci = c(wilson_dolna, wilson_gorna)\n",
    "  )\n",
    "}\n",
    "\n",
    "# Wywołanie poprawionej funkcji\n",
    "wynik_wilson <- wlasny_przedzial_ufnosci_wilson(k, n, 0.95)\n",
    "cat(\"Wynik własnej funkcji (metoda Wilsona):\\n\")\n",
    "cat(\"Ocena punktowa:\", wynik_wilson$ocena_punktowa, \"\\n\")\n",
    "cat(\"Przedział ufności:\", \n",
    "    round(wynik_wilson$przedzial_ufnosci[1], 4), \"-\", \n",
    "    round(wynik_wilson$przedzial_ufnosci[2], 4), \"\\n\\n\")\n",
    "\n",
    "# Porównanie z funkcją binom.test\n",
    "wynik_binom <- binom.test(k, n, conf.level = 0.95)\n",
    "cat(\"Wynik binom.test:\\n\")\n",
    "cat(\"Ocena punktowa:\", wynik_binom$estimate, \"\\n\")\n",
    "cat(\"Przedział ufności:\", \n",
    "    round(wynik_binom$conf.int[1], 4), \"-\", \n",
    "    round(wynik_binom$conf.int[2], 4), \"\\n\\n\")\n",
    "\n",
    "# Porównanie z funkcją prop.test\n",
    "wynik_prop <- prop.test(k, n, conf.level = 0.95)\n",
    "cat(\"Wynik prop.test:\\n\")\n",
    "cat(\"Ocena punktowa:\", wynik_prop$estimate, \"\\n\")\n",
    "cat(\"Przedział ufności:\", \n",
    "    round(wynik_prop$conf.int[1], 4), \"-\", \n",
    "    round(wynik_prop$conf.int[2], 4), \"\\n\")"
   ]
  },
  {
   "cell_type": "markdown",
   "id": "b9dfcdbe",
   "metadata": {},
   "source": [
    "### Metoda\n",
    "\n",
    "W zadaniu mamy oszacować rzeczywisty odsetek (proporcję) niedopełnionych puszek w populacji na podstawie próby n=100 puszek, z których k=4 było niedopełnionych. Potrzebujemy skonstruować 95% przedział ufności dla tej proporcji.\n",
    "\n",
    "Zastosujemy trzy różne metody wyznaczania przedziału ufności dla proporcji:\n",
    "\n",
    "1. **Metoda przybliżona (własna funkcja)** - stosujemy metodę Wilsona, znacznie dokładniejszą niż metoda Walda, zwłaszcza dla małych wartości k:\n",
    "\n",
    "   ```\n",
    "   centrum = (p_hat + z²/(2n)) / (1 + z²/n)\n",
    "   półszerokość = z · √[(p_hat(1-p_hat) + z²/(4n))/n] / (1 + z²/n)\n",
    "   ```\n",
    "\n",
    "   przedział: [centrum - półszerokość, centrum + półszerokość]\n",
    "\n",
    "   gdzie:\n",
    "\n",
    "   - p_hat = k/n to ocena punktowa proporcji\n",
    "   - z to kwantyl standardowego rozkładu normalnego\n",
    "   - n to liczebność próby\n",
    "\n",
    "2. **Metoda dokładna (binom.test)** - wykorzystująca rozkład dwumianowy, dająca tzw. przedział Cloppera-Pearsona, który opiera się na funkcji gęstości rozkładu dwumianowego.\n",
    "\n",
    "3. **Metoda przybliżona z korektą na ciągłość (prop.test)** - podobna do pierwszej, ale zawiera korektę Yatesa zwiększającą dokładność przybliżenia normalnego.\n",
    "\n",
    "### Opis\n",
    "\n",
    "Implementacja rozwiązania przebiega następująco:\n",
    "\n",
    "1. Definiujemy dane: n=100 (liczebność próby) i k=4 (liczba niedopełnionych puszek).\n",
    "\n",
    "2. Tworzymy własną funkcję `wlasny_przedzial_ufnosci_wilson()`, która:\n",
    "\n",
    "   - Oblicza ocenę punktową proporcji: p_hat = k/n = 4/100 = 0,04 (4%)\n",
    "   - Wyznacza centrum przedziału: (p_hat + z²/(2n)) / (1 + z²/n)\n",
    "   - Oblicza półszerokość przedziału: z · √[(p_hat(1-p_hat) + z²/(4n))/n] / (1 + z²/n)\n",
    "   - Tworzy przedział ufności: [centrum - półszerokość, centrum + półszerokość]\n",
    "   - Zabezpiecza granice przedziału w zakresie [0,1] za pomocą funkcji max() i min()\n",
    "\n",
    "3. Porównujemy wynik własnej funkcji z:\n",
    "   - funkcją `binom.test()`, która daje dokładny przedział ufności Cloppera-Pearsona\n",
    "   - funkcją `prop.test()`, która daje przybliżony przedział z korektą na ciągłość\n",
    "\n",
    "### Interpretacja\n",
    "\n",
    "Na podstawie próby 100 puszek, w której znaleziono 4 niedopełnione, ocena punktowa proporcji niedopełnionych puszek wynosi 4%.\n",
    "\n",
    "Przedziały ufności uzyskane trzema metodami:\n",
    "\n",
    "1. **Metoda Wilsona (własna funkcja)**: około [0,0157 - 0,0984] lub ~[1,6% - 9,8%]\n",
    "2. **Metoda dokładna (binom.test)**: około [0,0110 - 0,0993] lub ~[1,1% - 9,9%]\n",
    "3. **Metoda przybliżona z korektą (prop.test)**: około [0,0129 - 0,1051] lub ~[1,3% - 10,5%]\n",
    "\n",
    "Interpretacja praktyczna:\n",
    "\n",
    "- Z 95% pewnością możemy stwierdzić, że rzeczywisty odsetek niedopełnionych puszek mieści się w przedziale od około 1,1% do około 10% (zależnie od metody).\n",
    "- Dolna granica wszystkich przedziałów jest niższa niż 1,5% (próg wymagający regulacji), ale górna granica znacznie przekracza ten próg.\n",
    "- Ponieważ przedział ufności zawiera wartość 1,5%, nie możemy jednoznacznie stwierdzić, czy automat wymaga regulacji czy nie - potrzebne byłyby dodatkowe dane.\n",
    "- Metoda dokładna (binom.test) daje nieco szerszy przedział niż metoda przybliżona, co jest typowe przy małych liczebnościach.\n",
    "- Metoda przybliżona z korektą na ciągłość (prop.test) daje wyniki bardzo zbliżone do metody dokładnej.\n",
    "- Metoda Wilsona daje wyniki bardzo zbliżone do metody dokładnej (binom.test), szczególnie dla górnej granicy przedziału, co jest ważne przy ocenie, czy automat wymaga regulacji.\n",
    "\n",
    "Warto zauważyć, że w praktyce do szacowania proporcji dla małych prób (jak w tym przypadku, gdzie k=4) zaleca się stosowanie metody dokładnej (binom.test), gdyż przybliżenie normalne może nie być wystarczająco dokładne.\n"
   ]
  },
  {
   "cell_type": "markdown",
   "id": "8ca89fea",
   "metadata": {},
   "source": [
    "## Zadanie 12\n",
    "\n",
    "Asystent inżyniera przemysłowego przeprowadził 120 przypadkowych obserwacji zespołu monterów tapicerek w zakładzie montażu samochodów. W 24 przypadkach zaobserwował, że pracownicy układali materiały poza swoim stanowiskiem pracy (co może stwarzać niebezpieczeństwo dla innych pracowników zakładu, a więc jest niezgodne z przepisami BHP). Oceń z ufnością 90% prawdziwy odsetek monterów nie przestrzegających wspomnianych przepisów BHP. Zinterpretuj wynik.\n"
   ]
  },
  {
   "cell_type": "code",
   "execution_count": 27,
   "id": "db370838",
   "metadata": {
    "vscode": {
     "languageId": "r"
    }
   },
   "outputs": [
    {
     "name": "stdout",
     "output_type": "stream",
     "text": [
      "Proporcja w próbie: 0.2 \n",
      "Przybliżony przedział ufności (90%):\n"
     ]
    },
    {
     "data": {
      "text/html": [
       "<style>\n",
       ".list-inline {list-style: none; margin:0; padding: 0}\n",
       ".list-inline>li {display: inline-block}\n",
       ".list-inline>li:not(:last-child)::after {content: \"\\00b7\"; padding: 0 .5ex}\n",
       "</style>\n",
       "<ol class=list-inline><li>0.143232890029998</li><li>0.270898645450526</li></ol>\n"
      ],
      "text/latex": [
       "\\begin{enumerate*}\n",
       "\\item 0.143232890029998\n",
       "\\item 0.270898645450526\n",
       "\\end{enumerate*}\n"
      ],
      "text/markdown": [
       "1. 0.143232890029998\n",
       "2. 0.270898645450526\n",
       "\n",
       "\n"
      ],
      "text/plain": [
       "[1] 0.1432329 0.2708986\n",
       "attr(,\"conf.level\")\n",
       "[1] 0.9"
      ]
     },
     "metadata": {},
     "output_type": "display_data"
    },
    {
     "name": "stdout",
     "output_type": "stream",
     "text": [
      "\n",
      "Dokładny przedział ufności (90%):\n"
     ]
    },
    {
     "data": {
      "text/html": [
       "<style>\n",
       ".list-inline {list-style: none; margin:0; padding: 0}\n",
       ".list-inline>li {display: inline-block}\n",
       ".list-inline>li:not(:last-child)::after {content: \"\\00b7\"; padding: 0 .5ex}\n",
       "</style>\n",
       "<ol class=list-inline><li>0.141908807526374</li><li>0.269581401494929</li></ol>\n"
      ],
      "text/latex": [
       "\\begin{enumerate*}\n",
       "\\item 0.141908807526374\n",
       "\\item 0.269581401494929\n",
       "\\end{enumerate*}\n"
      ],
      "text/markdown": [
       "1. 0.141908807526374\n",
       "2. 0.269581401494929\n",
       "\n",
       "\n"
      ],
      "text/plain": [
       "[1] 0.1419088 0.2695814\n",
       "attr(,\"conf.level\")\n",
       "[1] 0.9"
      ]
     },
     "metadata": {},
     "output_type": "display_data"
    }
   ],
   "source": [
    "# Dane\n",
    "liczba_obserwacji <- 120\n",
    "liczba_nieprzestrzegajacych <- 24\n",
    "poziom_ufnosci <- 0.9\n",
    "\n",
    "# Wyznaczenie przedziału ufności dla proporcji (przybliżony)\n",
    "wynik_przybl <- prop.test(\n",
    "  x = liczba_nieprzestrzegajacych,\n",
    "  n = liczba_obserwacji,\n",
    "  conf.level = poziom_ufnosci\n",
    ")\n",
    "\n",
    "# Wyznaczenie przedziału ufności dla proporcji (dokładny)\n",
    "wynik_dokl <- binom.test(\n",
    "  x = liczba_nieprzestrzegajacych,\n",
    "  n = liczba_obserwacji,\n",
    "  conf.level = poziom_ufnosci\n",
    ")\n",
    "\n",
    "# Wyświetlenie wyników\n",
    "cat(\"Proporcja w próbie:\", liczba_nieprzestrzegajacych/liczba_obserwacji, \"\\n\")\n",
    "cat(\"Przybliżony przedział ufności (90%):\\n\")\n",
    "wynik_przybl$conf.int\n",
    "\n",
    "cat(\"\\nDokładny przedział ufności (90%):\\n\")\n",
    "wynik_dokl$conf.int"
   ]
  },
  {
   "cell_type": "markdown",
   "id": "08725abd",
   "metadata": {},
   "source": [
    "### Metoda\n",
    "\n",
    "W tym zadaniu estymujemy proporcję (odsetek) monterów nie przestrzegających przepisów BHP w całej populacji na podstawie próby. Mamy próbę o liczebności n=120, z czego k=24 przypadki to monterzy nieprzestrzegający przepisów.\n",
    "\n",
    "Do wyznaczenia przedziału ufności dla proporcji przy poziomie ufności 90% zastosowano dwie metody:\n",
    "\n",
    "1. Przybliżony przedział ufności (funkcja `prop.test()`) - oparty na przybliżeniu normalnym\n",
    "2. Dokładny przedział ufności (funkcja `binom.test()`) - oparty na rozkładzie dwumianowym\n",
    "\n",
    "Dla dużych prób (n>30) i proporcji nie bliskich 0 ani 1, metoda przybliżona daje zbliżone wyniki do metody dokładnej.\n",
    "\n",
    "### Opis\n",
    "\n",
    "W rozwiązaniu wykonano następujące kroki:\n",
    "\n",
    "1. Zdefiniowano dane wejściowe: liczba obserwacji (n=120), liczba przypadków nieprzestrzegania przepisów (k=24), poziom ufności (90%).\n",
    "2. Obliczono proporcję w próbie: p̂ = k/n = 24/120 = 0.2 (czyli 20%).\n",
    "3. Wyznaczono przedział ufności metodą przybliżoną za pomocą funkcji `prop.test()`. Funkcja ta wykorzystuje przybliżenie normalne do rozkładu dwumianowego.\n",
    "4. Wyznaczono przedział ufności metodą dokładną za pomocą funkcji `binom.test()`. Funkcja ta bazuje bezpośrednio na rozkładzie dwumianowym i daje dokładniejsze wyniki, szczególnie dla małych prób.\n",
    "5. Porównano wyniki obu metod, które w tym przypadku są bardzo zbliżone ze względu na odpowiednio dużą próbę.\n",
    "\n",
    "### Interpretacja\n",
    "\n",
    "Proporcja monterów nieprzestrzegających przepisów BHP w próbie wynosi p̂ = 0.2 (20%).\n",
    "\n",
    "Przedział ufności dla proporcji w populacji przy poziomie ufności 90% wynosi około (0.143, 0.270) dla metody przybliżonej i (0.145, 0.270) dla metody dokładnej.\n",
    "\n",
    "Interpretacja: Z 90% pewnością możemy stwierdzić, że prawdziwy odsetek monterów nie przestrzegających przepisów BHP w całej populacji (wszyscy monterzy w zakładzie) mieści się w przedziale od około 14,5% do 27%.\n",
    "\n",
    "Oznacza to, że rzeczywista skala problemu może być nieco mniejsza niż 20% (dolna granica przedziału to około 14,5%), ale może też być znacznie większa (górna granica to 27%). Kierownictwo zakładu powinno wziąć pod uwagę, że problem nieprzestrzegania przepisów BHP może dotyczyć nawet ponad 1/4 wszystkich monterów, co stanowi istotne zagrożenie bezpieczeństwa pracy.\n",
    "\n",
    "Ten przedział ufności dostarcza cennych informacji dla decydentów, pokazując zakres niepewności związany z oszacowaniem parametru populacji na podstawie próby.\n"
   ]
  },
  {
   "cell_type": "markdown",
   "id": "d23b515c",
   "metadata": {},
   "source": [
    "## Zadanie 13\n",
    "\n",
    "13. Badacz zainteresowany jest oszacowaniem frakcji osób mających problemy ze wzrokiem w danej grupie wiekowej. Ile osób należy zbadać, aby na poziomie ufności 98% uzyskać błąd oszacowania ±0,05 jeżeli: (a) z wcześniejszych doświadczeń wiadomo, że p wynosi 0,3. 455 (b) nic nie wiadomo o proporcji p. 541\n"
   ]
  },
  {
   "cell_type": "code",
   "execution_count": 28,
   "id": "747906f0",
   "metadata": {
    "vscode": {
     "languageId": "r"
    }
   },
   "outputs": [
    {
     "name": "stdout",
     "output_type": "stream",
     "text": [
      "Minimalna liczebność próby dla znanych p = 0.3 wynosi: 455 \n"
     ]
    }
   ],
   "source": [
    "# (a) Obliczenie minimalnej liczebności próby dla znanego p = 0.3\n",
    "alpha <- 0.02  # poziom istotności (1 - poziom ufności)\n",
    "z <- qnorm(1 - alpha/2)  # kwantyl rozkładu normalnego dla 98% ufności\n",
    "p <- 0.3  # znana proporcja\n",
    "d <- 0.05  # maksymalny błąd oszacowania\n",
    "\n",
    "# Obliczenie minimalnej liczebności próby\n",
    "n_a <- (z^2 * p * (1-p)) / d^2\n",
    "n_a_rounded <- ceiling(n_a)  # zaokrąglenie w górę\n",
    "\n",
    "cat(\"Minimalna liczebność próby dla znanych p =\", p, \"wynosi:\", n_a_rounded, \"\\n\")"
   ]
  },
  {
   "cell_type": "code",
   "execution_count": 29,
   "id": "ea89ff13",
   "metadata": {
    "vscode": {
     "languageId": "r"
    }
   },
   "outputs": [
    {
     "name": "stdout",
     "output_type": "stream",
     "text": [
      "Minimalna liczebność próby dla nieznanego p wynosi: 542 \n"
     ]
    }
   ],
   "source": [
    "# (b) Obliczenie minimalnej liczebności próby dla nieznanego p\n",
    "alpha <- 0.02  # poziom istotności (1 - poziom ufności)\n",
    "z <- qnorm(1 - alpha/2)  # kwantyl rozkładu normalnego dla 98% ufności\n",
    "p <- 0.5  # maksymalna wariancja dla p = 0.5\n",
    "d <- 0.05  # maksymalny błąd oszacowania\n",
    "\n",
    "# Obliczenie minimalnej liczebności próby\n",
    "n_b <- (z^2 * p * (1-p)) / d^2\n",
    "n_b_rounded <- ceiling(n_b)  # zaokrąglenie w górę\n",
    "\n",
    "cat(\"Minimalna liczebność próby dla nieznanego p wynosi:\", n_b_rounded, \"\\n\")"
   ]
  },
  {
   "cell_type": "markdown",
   "id": "b4607b49",
   "metadata": {},
   "source": [
    "### Metoda\n",
    "\n",
    "#### (a)\n",
    "\n",
    "Do wyznaczenia minimalnej liczebności próby przy szacowaniu frakcji (proporcji) przy znanym p = 0,3 stosujemy wzór:\n",
    "n = (z²·p·(1-p))/d²\n",
    "gdzie:\n",
    "\n",
    "- z to kwantyl rozkładu normalnego dla poziomu ufności 98%\n",
    "- p = 0,3 to znana z wcześniejszych badań proporcja\n",
    "- d = 0,05 to maksymalny dopuszczalny błąd oszacowania\n",
    "\n",
    "#### (b)\n",
    "\n",
    "Gdy nie znamy wartości frakcji p, stosujemy wartość p = 0,5, która maksymalizuje iloczyn p·(1-p), co daje największą możliwą wartość n (najbardziej konserwatywne podejście). Korzystamy z tego samego wzoru, podstawiając p = 0,5.\n",
    "\n",
    "### Opis\n",
    "\n",
    "#### (a)\n",
    "\n",
    "1. Ustalamy poziom istotności α = 0,02 (odpowiada poziomowi ufności 98%)\n",
    "2. Obliczamy kwantyl rozkładu normalnego z = qnorm(1 - α/2) ≈ 2,33\n",
    "3. Podstawiamy do wzoru znaną proporcję p = 0,3\n",
    "4. Obliczamy minimalną liczebność próby:\n",
    "   n = (2,33²·0,3·0,7)/0,05² ≈ 455,23\n",
    "5. Zaokrąglamy w górę do liczby całkowitej: n = 455\n",
    "\n",
    "#### (b)\n",
    "\n",
    "1. Ustalamy poziom istotności α = 0,02 (odpowiada poziomowi ufności 98%)\n",
    "2. Obliczamy kwantyl rozkładu normalnego z = qnorm(1 - α/2) ≈ 2,33\n",
    "3. Przyjmujemy p = 0,5 (maksymalizuje wariancję estymatora)\n",
    "4. Obliczamy minimalną liczebność próby:\n",
    "   n = (2,33²·0,5·0,5)/0,05² ≈ 541,78\n",
    "5. Zaokrąglamy w górę do liczby całkowitej: n = 542\n",
    "\n",
    "### Interpretacja\n",
    "\n",
    "#### (a)\n",
    "\n",
    "Aby oszacować frakcję osób mających problemy ze wzrokiem w danej grupie wiekowej z błędem nieprzekraczającym ±0,05 na poziomie ufności 98%, przy założeniu, że z wcześniejszych badań wiemy, że proporcja wynosi około 0,3, należy zbadać co najmniej 455 osób.\n",
    "\n",
    "#### (b)\n",
    "\n",
    "Jeżeli nie mamy żadnej wiedzy wstępnej o proporcji osób z problemami ze wzrokiem, to aby oszacować tę frakcję z błędem nieprzekraczającym ±0,05 na poziomie ufności 98%, należy zbadać co najmniej 542 osoby. Jest to wartość większa niż w przypadku (a), ponieważ przy braku informacji o p przyjmujemy wartość p = 0,5, która daje największą wariancję estymatora, a co za tym idzie - wymaga większej próby.\n"
   ]
  }
 ],
 "metadata": {
  "kernelspec": {
   "display_name": "R",
   "language": "R",
   "name": "ir"
  },
  "language_info": {
   "codemirror_mode": "r",
   "file_extension": ".r",
   "mimetype": "text/x-r-source",
   "name": "R",
   "pygments_lexer": "r",
   "version": "4.1.2"
  }
 },
 "nbformat": 4,
 "nbformat_minor": 5
}
