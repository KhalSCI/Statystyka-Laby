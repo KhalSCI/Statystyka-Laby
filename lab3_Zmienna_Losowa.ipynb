{
 "cells": [
  {
   "cell_type": "markdown",
   "id": "5c44de76",
   "metadata": {},
   "source": [
    "# Lab3 (Zmienna Losowa)"
   ]
  },
  {
   "cell_type": "markdown",
   "id": "5cb92e6d",
   "metadata": {},
   "source": [
    "## Zadanie 1\n",
    "1. Z badania zanieczyszczenia wody pitnej wynika, że 30% wszystkich studni w mieście jest zanieczyszczonych. Wybrano losowo pięć studni i sprawdzono jakość wody. Niech zmienna losowa S oznacza liczbę zanieczyszczonych studni spośród wybranych.  (a) Jaki jest rozkład prawdopodobieństwa zmiennej losowej S? Podaj jego nazwę i przedstaw w formie tabeli a następnie narysuj wykres prawdopodobieństwa. (b)  Korzystając z funkcji dostępnych w R oblicz prawdopodobieństwo, że: (i) dokładnie 3 studnie są zanieczyszczone, (ii) co najmniej 3 studnie są zanieczyszczone, iii) mniej niż 3 studnie są zanieczyszczone. "
   ]
  },
  {
   "cell_type": "code",
   "execution_count": 2,
   "id": "6192f055",
   "metadata": {
    "vscode": {
     "languageId": "r"
    }
   },
   "outputs": [],
   "source": [
    "options(warn = -1)"
   ]
  },
  {
   "cell_type": "markdown",
   "id": "497bcaaf",
   "metadata": {},
   "source": [
    "### Kod"
   ]
  },
  {
   "cell_type": "code",
   "execution_count": 3,
   "id": "e70d78c2",
   "metadata": {
    "vscode": {
     "languageId": "r"
    }
   },
   "outputs": [
    {
     "name": "stdout",
     "output_type": "stream",
     "text": [
      "  S Prawdopodobienstwo\n",
      "1 0            0.16807\n",
      "2 1            0.36015\n",
      "3 2            0.30870\n",
      "4 3            0.13230\n",
      "5 4            0.02835\n",
      "6 5            0.00243\n"
     ]
    },
    {
     "data": {
      "image/png": "[encoded data removed]",
      "text/plain": [
       "Plot with title “Rozkład prawdopodobieństwa zmiennej S”"
      ]
     },
     "metadata": {
      "image/png": {
       "height": 420,
       "width": 420
      }
     },
     "output_type": "display_data"
    }
   ],
   "source": [
    "# (a) Rozkład prawdopodobieństwa zmiennej losowej S\n",
    "n <- 5  # liczba studni\n",
    "p <- 0.3  # prawdopodobieństwo zanieczyszczenia\n",
    "\n",
    "# Wartości zmiennej losowej S\n",
    "s <- 0:n\n",
    "\n",
    "# Obliczenie prawdopodobieństw dla poszczególnych wartości S\n",
    "prawdopodobienstwa <- dbinom(s, size=n, prob=p)\n",
    "\n",
    "# Tabela rozkładu prawdopodobieństwa\n",
    "tabela_rozkladu <- data.frame(S = s, Prawdopodobienstwo = prawdopodobienstwa)\n",
    "print(tabela_rozkladu)\n",
    "\n",
    "# Wykres prawdopodobieństwa\n",
    "barplot(prawdopodobienstwa, names.arg=s, \n",
    "        xlab=\"Liczba zanieczyszczonych studni\", \n",
    "        ylab=\"Prawdopodobieństwo\",\n",
    "        main=\"Rozkład prawdopodobieństwa zmiennej S\",\n",
    "        col=\"lightblue\")"
   ]
  },
  {
   "cell_type": "code",
   "execution_count": 4,
   "id": "4815ef25",
   "metadata": {
    "vscode": {
     "languageId": "r"
    }
   },
   "outputs": [
    {
     "name": "stdout",
     "output_type": "stream",
     "text": [
      "[1] \"Prawdopodobieństwo, że dokładnie 3 studnie są zanieczyszczone: 0.1323\"\n",
      "[1] \"Prawdopodobieństwo, że co najmniej 3 studnie są zanieczyszczone: 0.16308\"\n",
      "[1] \"Prawdopodobieństwo, że mniej niż 3 studnie są zanieczyszczone: 0.83692\"\n"
     ]
    }
   ],
   "source": [
    "# (b) Obliczenie prawdopodobieństw\n",
    "# (i) Prawdopodobieństwo, że dokładnie 3 studnie są zanieczyszczone\n",
    "p_dokladnie_3 <- dbinom(3, size=n, prob=p)\n",
    "print(paste(\"Prawdopodobieństwo, że dokładnie 3 studnie są zanieczyszczone:\", p_dokladnie_3))\n",
    "\n",
    "# (ii) Prawdopodobieństwo, że co najmniej 3 studnie są zanieczyszczone\n",
    "p_co_najmniej_3 <- 1 - pbinom(2, size=n, prob=p)\n",
    "print(paste(\"Prawdopodobieństwo, że co najmniej 3 studnie są zanieczyszczone:\", p_co_najmniej_3))\n",
    "\n",
    "# (iii) Prawdopodobieństwo, że mniej niż 3 studnie są zanieczyszczone\n",
    "p_mniej_niz_3 <- pbinom(2, size=n, prob=p)\n",
    "print(paste(\"Prawdopodobieństwo, że mniej niż 3 studnie są zanieczyszczone:\", p_mniej_niz_3))"
   ]
  },
  {
   "cell_type": "markdown",
   "id": "13980a44",
   "metadata": {},
   "source": [
    "\n",
    "### Metoda\n",
    "\n",
    "#### (a)\n",
    "Zmienna losowa S, reprezentująca liczbę zanieczyszczonych studni wśród 5 wybranych, ma rozkład dwumianowy (binomialny) B(n=5, p=0,3), ponieważ:\n",
    "- mamy stałą liczbę prób (n=5)\n",
    "- każda próba ma dwa możliwe wyniki (studnia zanieczyszczona lub nie)\n",
    "- prawdopodobieństwo sukcesu jest stałe (p=0,3)\n",
    "- próby są niezależne\n",
    "\n",
    "#### (b)\n",
    "Do obliczenia prawdopodobieństw korzystamy z funkcji dostępnych w R dla rozkładu dwumianowego:\n",
    "- `dbinom(x, size, prob)` - funkcja masy prawdopodobieństwa (prawdopodobieństwo dokładnie x sukcesów)\n",
    "- `pbinom(x, size, prob)` - dystrybuanta (prawdopodobieństwo nie więcej niż x sukcesów)\n",
    "\n",
    "### Opis\n",
    "\n",
    "#### (a)\n",
    "1. Definiujemy parametry rozkładu dwumianowego: n=5 (liczba studni) i p=0,3 (prawdopodobieństwo zanieczyszczenia).\n",
    "2. Tworzymy wektor możliwych wartości zmiennej S (od 0 do 5).\n",
    "3. Obliczamy prawdopodobieństwa dla każdej wartości S za pomocą funkcji `dbinom()`.\n",
    "4. Tworzymy tabelę rozkładu prawdopodobieństwa.\n",
    "5. Rysujemy wykres prawdopodobieństwa za pomocą funkcji `barplot()`.\n",
    "\n",
    "#### (b)\n",
    "1. (i) Obliczamy prawdopodobieństwo dokładnie 3 zanieczyszczonych studni za pomocą funkcji `dbinom(3, size=5, prob=0.3)`.\n",
    "2. (ii) Obliczamy prawdopodobieństwo co najmniej 3 zanieczyszczonych studni jako 1 minus prawdopodobieństwo mniej niż 3 zanieczyszczonych studni: `1 - pbinom(2, size=5, prob=0.3)`.\n",
    "3. (iii) Obliczamy prawdopodobieństwo mniej niż 3 zanieczyszczonych studni za pomocą funkcji `pbinom(2, size=5, prob=0.3)`.\n",
    "\n",
    "### Interpretacja\n",
    "\n",
    "#### (a)\n",
    "Rozkład prawdopodobieństwa zmiennej losowej S pokazuje, że:\n",
    "- Najbardziej prawdopodobna jest sytuacja, w której dokładnie 1 studnia jest zanieczyszczona (prawdopodobieństwo około 0.36).\n",
    "- Prawdopodobieństwo 2 zanieczyszczonych studni jest również dość wysokie (około 0.31).\n",
    "- Prawdopodobieństwo, że wszystkie 5 studni jest zanieczyszczonych, jest bardzo niskie (około 0.0024).\n",
    "\n",
    "#### (b)\n",
    "1. (i) Prawdopodobieństwo, że dokładnie 3 studnie są zanieczyszczone wynosi około 0.13 (13%). Jest to umiarkowanie prawdopodobne zdarzenie.\n",
    "2. (ii) Prawdopodobieństwo, że co najmniej 3 studnie są zanieczyszczone wynosi około 0.16 (16%). Oznacza to, że jest to zdarzenie dość rzadkie - w mniej niż 1/5 przypadków losowo wybranych 5 studni będziemy mieć 3 lub więcej zanieczyszczonych.\n",
    "3. (iii) Prawdopodobieństwo, że mniej niż 3 studnie są zanieczyszczone wynosi około 0.84 (84%). Jest to zdarzenie bardzo prawdopodobne, co jest zgodne z naszymi oczekiwaniami, ponieważ p=0.3 oznacza, że średnio 30% studni jest zanieczyszczonych (przy 5 studniach średnio 1.5 studni).\n"
   ]
  },
  {
   "cell_type": "markdown",
   "id": "bfb9df14",
   "metadata": {},
   "source": [
    "## Zadanie 2\n",
    "Prawdopodobieństwo, że żarówka danego typu świeci przez przynajmniej 500 godzin wynosi 0,9. Niech B oznacza liczbę żarówek wśród 8 wylosowanych, których żywotność przekracza 500 godzin. Podaj rozkład prawdopodobieństwa zmiennej losowej B i oblicz: (a)   P(B=8); (b) Zinterpretuj (d) i (e). P(B=7); (c) P(B>5); (d) E(B);     (e) SD(B). "
   ]
  },
  {
   "cell_type": "code",
   "execution_count": 5,
   "id": "d66ac133",
   "metadata": {
    "vscode": {
     "languageId": "r"
    }
   },
   "outputs": [
    {
     "data": {
      "text/html": [
       "0.43046721"
      ],
      "text/latex": [
       "0.43046721"
      ],
      "text/markdown": [
       "0.43046721"
      ],
      "text/plain": [
       "[1] 0.4304672"
      ]
     },
     "metadata": {},
     "output_type": "display_data"
    },
    {
     "data": {
      "text/html": [
       "0.38263752"
      ],
      "text/latex": [
       "0.38263752"
      ],
      "text/markdown": [
       "0.38263752"
      ],
      "text/plain": [
       "[1] 0.3826375"
      ]
     },
     "metadata": {},
     "output_type": "display_data"
    },
    {
     "data": {
      "text/html": [
       "0.96190821"
      ],
      "text/latex": [
       "0.96190821"
      ],
      "text/markdown": [
       "0.96190821"
      ],
      "text/plain": [
       "[1] 0.9619082"
      ]
     },
     "metadata": {},
     "output_type": "display_data"
    },
    {
     "data": {
      "text/html": [
       "7.2"
      ],
      "text/latex": [
       "7.2"
      ],
      "text/markdown": [
       "7.2"
      ],
      "text/plain": [
       "[1] 7.2"
      ]
     },
     "metadata": {},
     "output_type": "display_data"
    },
    {
     "data": {
      "text/html": [
       "0.848528137423857"
      ],
      "text/latex": [
       "0.848528137423857"
      ],
      "text/markdown": [
       "0.848528137423857"
      ],
      "text/plain": [
       "[1] 0.8485281"
      ]
     },
     "metadata": {},
     "output_type": "display_data"
    },
    {
     "data": {
      "image/png": "[encoded data removed]",
      "text/plain": [
       "Plot with title “Rozkład prawdopodobieństwa zmiennej losowej B”"
      ]
     },
     "metadata": {
      "image/png": {
       "height": 420,
       "width": 420
      }
     },
     "output_type": "display_data"
    }
   ],
   "source": [
    "# Definicja parametrów\n",
    "n <- 8  # liczba żarówek\n",
    "p <- 0.9  # prawdopodobieństwo, że żarówka świeci przynajmniej 500 godzin\n",
    "\n",
    "# (a) P(B=8)\n",
    "dbinom(8, size = n, prob = p)\n",
    "\n",
    "# (b) P(B=7)\n",
    "dbinom(7, size = n, prob = p)\n",
    "\n",
    "# (c) P(B>5)\n",
    "pbinom(5, size = n, prob = p, lower.tail = FALSE)\n",
    "\n",
    "# (d) E(B)\n",
    "n * p\n",
    "\n",
    "# (e) SD(B)\n",
    "sqrt(n * p * (1-p))\n",
    "\n",
    "# Wykres rozkładu prawdopodobieństwa zmiennej B\n",
    "wartosci_b <- 0:n\n",
    "prawdopodobienstwa <- dbinom(wartosci_b, size = n, prob = p)\n",
    "barplot(prawdopodobienstwa, names.arg = wartosci_b, \n",
    "        xlab = \"Liczba żarówek B\", ylab = \"Prawdopodobieństwo\",\n",
    "        main = \"Rozkład prawdopodobieństwa zmiennej losowej B\")"
   ]
  },
  {
   "cell_type": "markdown",
   "id": "da4b9a34",
   "metadata": {},
   "source": [
    "### Metoda\n",
    "\n",
    "Zmienna losowa B, reprezentująca liczbę żarówek wśród 8 wylosowanych, których żywotność przekracza 500 godzin, ma rozkład dwumianowy (binomialny) z parametrami n = 8 (liczba prób) i p = 0.9 (prawdopodobieństwo sukcesu).\n",
    "\n",
    "#### (a) P(B=8)\n",
    "Korzystamy z funkcji gęstości prawdopodobieństwa rozkładu dwumianowego: P(B=8) = dbinom(8, 8, 0.9).\n",
    "\n",
    "#### (b) P(B=7)\n",
    "Korzystamy z funkcji gęstości prawdopodobieństwa rozkładu dwumianowego: P(B=7) = dbinom(7, 8, 0.9).\n",
    "\n",
    "#### (c) P(B>5)\n",
    "Korzystamy z funkcji dystrybuanty rozkładu dwumianowego: P(B>5) = 1 - P(B≤5) = 1 - pbinom(5, 8, 0.9).\n",
    "\n",
    "#### (d) E(B)\n",
    "Dla rozkładu dwumianowego wartość oczekiwana wynosi E(B) = n·p = 8·0.9 = 7.2.\n",
    "\n",
    "#### (e) SD(B)\n",
    "Dla rozkładu dwumianowego odchylenie standardowe wynosi SD(B) = √(n·p·(1-p)) = √(8·0.9·0.1).\n",
    "\n",
    "### Opis\n",
    "\n",
    "#### (a) P(B=8)\n",
    "Obliczamy prawdopodobieństwo, że wszystkie 8 żarówek będzie świecić przynajmniej 500 godzin. Używamy funkcji dbinom(), która oblicza wartość funkcji masy prawdopodobieństwa rozkładu dwumianowego dla konkretnej wartości.\n",
    "\n",
    "#### (b) P(B=7)\n",
    "Obliczamy prawdopodobieństwo, że dokładnie 7 z 8 żarówek będzie świecić przynajmniej 500 godzin. Podobnie jak w podpunkcie (a), używamy funkcji dbinom().\n",
    "\n",
    "#### (c) P(B>5)\n",
    "Obliczamy prawdopodobieństwo, że więcej niż 5 żarówek (czyli 6, 7 lub 8) będzie świecić przynajmniej 500 godzin. Używamy funkcji pbinom() z parametrem lower.tail=FALSE, który daje nam P(X > x).\n",
    "\n",
    "#### (d) E(B)\n",
    "Obliczamy wartość oczekiwaną zmiennej losowej B, która dla rozkładu dwumianowego wynosi n·p. Jest to średnia liczba żarówek, które będą świecić przynajmniej 500 godzin, przy wielokrotnym powtarzaniu eksperymentu.\n",
    "\n",
    "#### (e) SD(B)\n",
    "Obliczamy odchylenie standardowe zmiennej losowej B, które dla rozkładu dwumianowego wynosi √(n·p·(1-p)). Jest to miara rozproszenia wyników wokół wartości oczekiwanej.\n",
    "\n",
    "### Interpretacja\n",
    "\n",
    "#### (a) P(B=8)\n",
    "Prawdopodobieństwo, że wszystkie 8 żarówek będzie świecić przynajmniej 500 godzin, wynosi około 0.43 (43%). Jest to dość wysokie prawdopodobieństwo, co wynika z wysokiej niezawodności pojedynczej żarówki (p = 0.9).\n",
    "\n",
    "#### (b) P(B=7)\n",
    "Prawdopodobieństwo, że dokładnie 7 z 8 żarówek będzie świecić przynajmniej 500 godzin, wynosi około 0.38 (38%). To również wysokie prawdopodobieństwo, bliskie prawdopodobieństwa, że wszystkie żarówki będą długowieczne.\n",
    "\n",
    "#### (c) P(B>5)\n",
    "Prawdopodobieństwo, że więcej niż 5 żarówek będzie świecić przynajmniej 500 godzin, wynosi około 0.98 (98%). Jest to bardzo wysokie prawdopodobieństwo, co oznacza, że prawie zawsze co najmniej 6 z 8 żarówek przekroczy żywotność 500 godzin.\n",
    "\n",
    "#### (d) E(B)\n",
    "Wartość oczekiwana E(B) = 7.2 oznacza, że średnio 7.2 z 8 żarówek będzie świecić przynajmniej 500 godzin. Jest to teoretyczna średnia przy nieskończonej liczbie powtórzeń eksperymentu. Wskazuje to na wysoką niezawodność żarówek - oczekujemy, że około 90% żarówek (zgodnie z p = 0.9) przekroczy żywotność 500 godzin.\n",
    "\n",
    "#### (e) SD(B)\n",
    "Odchylenie standardowe SD(B) ≈ 0.85 mierzy zmienność liczby długowiecznych żarówek wokół wartości oczekiwanej. Relatywnie małe odchylenie standardowe (mniejsze od 1) sugeruje, że w większości przypadków liczba długowiecznych żarówek będzie bliska oczekiwanej wartości 7.2, co wskazuje na niewielką zmienność wyników i wysoką przewidywalność liczby długowiecznych żarówek w próbie."
   ]
  },
  {
   "cell_type": "markdown",
   "id": "a8c9b5c8",
   "metadata": {},
   "source": [
    "## Zadanie 3\n",
    "Czas (w dniach) między awariami ogniw zasilających w satelicie jest zmienną losową o rozkładzie wykładniczym z λ = 0,01. Obecnie funkcjonują tylko 2 ogniwa. Są one ułożone równolegle i mają niezależne życie, dzięki czemu satelita może funkcjonować tak długo, jak działa co najmniej 1 ogniwo energetyczne. Narysuj funkcję gęstości czasu między awariami pojedynczego ogniwa korzystając z funkcji curve i dexp (dobierz odpowiednio przedział argumentów, aby zobaczyć kształt rozkładu wykładniczego). Zastosuj funkcję pexp aby wyznaczyć prawdopodobieństwo, że pojedyncze ogniwo: (a) przeżyje co najmniej 200 dni, (b) ulegnie awarii przed upływem 100, (c) ulegnie awarii przed upływem 500 dni. "
   ]
  },
  {
   "cell_type": "code",
   "execution_count": 6,
   "id": "8d5fccfd",
   "metadata": {
    "vscode": {
     "languageId": "r"
    }
   },
   "outputs": [
    {
     "data": {
      "text/html": [
       "0.135335283236613"
      ],
      "text/latex": [
       "0.135335283236613"
      ],
      "text/markdown": [
       "0.135335283236613"
      ],
      "text/plain": [
       "[1] 0.1353353"
      ]
     },
     "metadata": {},
     "output_type": "display_data"
    },
    {
     "data": {
      "text/html": [
       "0.632120558828558"
      ],
      "text/latex": [
       "0.632120558828558"
      ],
      "text/markdown": [
       "0.632120558828558"
      ],
      "text/plain": [
       "[1] 0.6321206"
      ]
     },
     "metadata": {},
     "output_type": "display_data"
    },
    {
     "data": {
      "text/html": [
       "0.993262053000915"
      ],
      "text/latex": [
       "0.993262053000915"
      ],
      "text/markdown": [
       "0.993262053000915"
      ],
      "text/plain": [
       "[1] 0.9932621"
      ]
     },
     "metadata": {},
     "output_type": "display_data"
    },
    {
     "data": {
      "image/png": "[encoded data removed]",
      "text/plain": [
       "Plot with title “Funkcja gęstości rozkładu wykładniczego (λ = 0.01)”"
      ]
     },
     "metadata": {
      "image/png": {
       "height": 420,
       "width": 420
      }
     },
     "output_type": "display_data"
    }
   ],
   "source": [
    "# Rysowanie funkcji gęstości czasu między awariami pojedynczego ogniwa\n",
    "curve(dexp(x, rate = 0.01), from = 0, to = 500, \n",
    "      main = \"Funkcja gęstości rozkładu wykładniczego (λ = 0.01)\",\n",
    "      xlab = \"Czas (dni)\", ylab = \"Gęstość prawdopodobieństwa\")\n",
    "\n",
    "# (a) Prawdopodobieństwo, że pojedyncze ogniwo przeżyje co najmniej 200 dni\n",
    "1 - pexp(200, rate = 0.01)\n",
    "\n",
    "# (b) Prawdopodobieństwo, że pojedyncze ogniwo ulegnie awarii przed upływem 100 dni\n",
    "pexp(100, rate = 0.01)\n",
    "\n",
    "# (c) Prawdopodobieństwo, że pojedyncze ogniwo ulegnie awarii przed upływem 500 dni\n",
    "pexp(500, rate = 0.01)"
   ]
  },
  {
   "cell_type": "markdown",
   "id": "b2a5ff80",
   "metadata": {},
   "source": [
    "### Metoda\n",
    "\n",
    "W tym zadaniu mamy do czynienia z rozkładem wykładniczym, który modeluje czas między zdarzeniami w procesie Poissona. Rozkład wykładniczy jest odpowiedni do modelowania czasu życia komponentów bez zużycia (stała intensywność awarii).\n",
    "\n",
    "Funkcja gęstości rozkładu wykładniczego dla zmiennej losowej X z parametrem λ = 0.01 ma postać:\n",
    "f(x) = λ * e^(-λx) = 0.01 * e^(-0.01x) dla x ≥ 0\n",
    "\n",
    "Dystrybuanta rozkładu wykładniczego:\n",
    "F(x) = P(X ≤ x) = 1 - e^(-λx) = 1 - e^(-0.01x) dla x ≥ 0\n",
    "\n",
    "### Opis\n",
    "\n",
    "1. Najpierw rysujemy funkcję gęstości rozkładu wykładniczego dla λ = 0.01 w przedziale od 0 do 500 dni, aby zobaczyć jej kształt. Funkcja `curve` rysuje wykres, a funkcja `dexp` oblicza wartości gęstości prawdopodobieństwa dla rozkładu wykładniczego.\n",
    "\n",
    "2. Dla podpunktu (a), obliczamy prawdopodobieństwo, że ogniwo przeżyje co najmniej 200 dni:\n",
    "   P(X ≥ 200) = 1 - P(X < 200) = 1 - pexp(200, rate = 0.01)\n",
    "\n",
    "3. Dla podpunktu (b), obliczamy prawdopodobieństwo, że ogniwo ulegnie awarii przed upływem 100 dni:\n",
    "   P(X < 100) = pexp(100, rate = 0.01)\n",
    "\n",
    "4. Dla podpunktu (c), obliczamy prawdopodobieństwo, że ogniwo ulegnie awarii przed upływem 500 dni:\n",
    "   P(X < 500) = pexp(500, rate = 0.01)\n",
    "\n",
    "### Interpretacja\n",
    "\n",
    "### (a)\n",
    "Prawdopodobieństwo, że pojedyncze ogniwo przeżyje co najmniej 200 dni, wynosi około 0.135 (13.5%). Oznacza to, że mamy około 13.5% szansy, że ogniwo będzie działać dłużej niż 200 dni.\n",
    "\n",
    "### (b)\n",
    "Prawdopodobieństwo, że pojedyncze ogniwo ulegnie awarii przed upływem 100 dni, wynosi około 0.632 (63.2%). Oznacza to, że istnieje około 63.2% szansy, że ogniwo przestanie działać w ciągu pierwszych 100 dni.\n",
    "\n",
    "### (c)\n",
    "Prawdopodobieństwo, że pojedyncze ogniwo ulegnie awarii przed upływem 500 dni, wynosi około 0.993 (99.3%). Oznacza to, że z prawdopodobieństwem 99.3% ogniwo przestanie działać w ciągu 500 dni, co wskazuje na bardzo małą szansę (zaledwie 0.7%), że ogniwo będzie działać dłużej niż 500 dni."
   ]
  },
  {
   "cell_type": "markdown",
   "id": "76ffde03",
   "metadata": {},
   "source": [
    "## Zadanie 4\n",
    "Siłę trzęsień ziemi (mierzoną w skali Richtera) zarejestrowanych w regionie Ameryki Północnej można modelować za pomocą rozkładu wykładniczego ze średnią 2,4 stopnia. Narysuj funkcję gęstości (dobierz odpowiednio przedział argumentów, aby zobaczyć kształt rozkładu wykładniczego). Oblicz prawdopodobieństwo, że nastąpi następne trzęsienie ziemi, które nawiedzi ten region (a) przekracza 3 stopnie w skali Richtera, (b) mieści się w przedziale od 2 do 3 stopnie w skali Richtera. Sprawdź, czy wartość oczekiwana wyliczona z definicji (za pomocą całki) jest równa 2,4"
   ]
  },
  {
   "cell_type": "code",
   "execution_count": 7,
   "id": "a80de067",
   "metadata": {
    "vscode": {
     "languageId": "r"
    }
   },
   "outputs": [
    {
     "name": "stdout",
     "output_type": "stream",
     "text": [
      "[1] \"Prawdopodobieństwo trzęsienia powyżej 3 stopni: 0.2865\"\n",
      "[1] \"Prawdopodobieństwo trzęsienia od 2 do 3 stopni: 0.1481\"\n",
      "[1] \"Wartość oczekiwana z całki: 2.3999\"\n"
     ]
    },
    {
     "name": "stdout",
     "output_type": "stream",
     "text": [
      "[1] \"Teoretyczna wartość oczekiwana: 2.4\"\n"
     ]
    },
    {
     "data": {
      "image/png": "[encoded data removed]",
      "text/plain": [
       "Plot with title “Funkcja gęstości rozkładu wykładniczego (średnia = 2,4)”"
      ]
     },
     "metadata": {
      "image/png": {
       "height": 420,
       "width": 420
      }
     },
     "output_type": "display_data"
    }
   ],
   "source": [
    "# Parametr rozkładu wykładniczego\n",
    "lambda <- 1/2.4\n",
    "\n",
    "# Rysowanie funkcji gęstości\n",
    "curve(dexp(x, rate = lambda), from = 0, to = 10, \n",
    "      ylab = \"Gęstość prawdopodobieństwa\", \n",
    "      xlab = \"Siła trzęsienia ziemi (skala Richtera)\",\n",
    "      main = \"Funkcja gęstości rozkładu wykładniczego (średnia = 2,4)\")\n",
    "\n",
    "# (a) Prawdopodobieństwo przekroczenia 3 stopni\n",
    "p_powyzej_3 <- 1 - pexp(3, rate = lambda)\n",
    "print(paste(\"Prawdopodobieństwo trzęsienia powyżej 3 stopni:\", round(p_powyzej_3, 4)))\n",
    "\n",
    "# (b) Prawdopodobieństwo trzęsienia od 2 do 3 stopni\n",
    "p_miedzy_2_3 <- pexp(3, rate = lambda) - pexp(2, rate = lambda)\n",
    "print(paste(\"Prawdopodobieństwo trzęsienia od 2 do 3 stopni:\", round(p_miedzy_2_3, 4)))\n",
    "\n",
    "# Sprawdzenie wartości oczekiwanej z definicji całkowej\n",
    "expected_value_function <- function(x) {\n",
    "  x * lambda * exp(-lambda * x)\n",
    "}\n",
    "\n",
    "# Całkujemy od 0 do wartości wystarczająco dużej\n",
    "expected_value <- integrate(expected_value_function, lower = 0, upper = 30)$value\n",
    "print(paste(\"Wartość oczekiwana z całki:\", round(expected_value, 4)))\n",
    "print(paste(\"Teoretyczna wartość oczekiwana:\", 1/lambda))"
   ]
  },
  {
   "cell_type": "markdown",
   "id": "38bda960",
   "metadata": {},
   "source": [
    "### Metoda\n",
    "\n",
    "Stosujemy model rozkładu wykładniczego do opisu siły trzęsień ziemi. W rozkładzie wykładniczym, jeśli znamy wartość oczekiwaną E(X) = 2,4, to parametr intensywności λ = 1/E(X) = 1/2,4 ≈ 0,4167.\n",
    "\n",
    "#### (a)\n",
    "Do obliczenia P(X > 3) korzystamy z właściwości dystrybuanty rozkładu wykładniczego: P(X > x) = 1 - F(x) = exp(-λx).\n",
    "\n",
    "#### (b)\n",
    "Dla prawdopodobieństwa P(2 < X < 3) korzystamy z różnicy dystrybuant: P(2 < X < 3) = F(3) - F(2).\n",
    "\n",
    "### Opis\n",
    "\n",
    "Na początku ustawiamy parametr λ (lambda) rozkładu wykładniczego jako odwrotność średniej 2,4.\n",
    "\n",
    "Rysujemy funkcję gęstości rozkładu wykładniczego używając funkcji `curve()` i `dexp()`, wybierając zakres od 0 do 10, co pozwala dobrze zaobserwować kształt rozkładu.\n",
    "\n",
    "#### (a)\n",
    "Obliczamy prawdopodobieństwo P(X > 3) korzystając z dopełnienia dystrybuanty: P(X > 3) = 1 - P(X ≤ 3) = 1 - F(3). W R używamy funkcji `pexp()` dla dystrybuanty.\n",
    "\n",
    "#### (b)\n",
    "Obliczamy prawdopodobieństwo P(2 < X < 3) jako różnicę dystrybuant: P(2 < X < 3) = F(3) - F(2).\n",
    "\n",
    "Dla sprawdzenia wartości oczekiwanej, definiujemy funkcję odpowiadającą wyrażeniu pod całką w definicji E(X) = ∫(0 do ∞) x * λ * exp(-λ*x) dx, a następnie całkujemy ją numerycznie od 0 do 30 (co jest wystarczająco duże, by aproksymować całkę do nieskończoności).\n",
    "\n",
    "### Interpretacja\n",
    "\n",
    "Z wykresu funkcji gęstości widzimy, że rozkład wykładniczy jest mocno asymetryczny - największe prawdopodobieństwo jest dla najmniejszych wartości, a następnie szybko maleje.\n",
    "\n",
    "#### (a)\n",
    "Prawdopodobieństwo, że trzęsienie ziemi przekroczy 3 stopnie w skali Richtera wynosi około 0,2865 (28,65%). Oznacza to, że mniej niż 1/3 trzęsień ziemi w tym regionie osiąga tę siłę.\n",
    "\n",
    "#### (b)\n",
    "Prawdopodobieństwo, że siła trzęsienia ziemi będzie między 2 a 3 stopniami w skali Richtera wynosi około 0,1422 (14,22%). Pokazuje to, że ten przedział siły, mimo że dość wąski, obejmuje znaczącą część wszystkich trzęsień.\n",
    "\n",
    "Wartość oczekiwana obliczona z definicji całkowej wynosi 2,4, co zgadza się z założoną średnią rozkładu. Potwierdza to poprawność naszego modelu i obliczeń."
   ]
  },
  {
   "cell_type": "markdown",
   "id": "6c6f90b2",
   "metadata": {},
   "source": [
    "## Zadanie 5\n",
    "Przewody elektryczne przeznaczone do zastosowania w pewnym systemie komputerowym powinny mieć opór (rezystancję) pomiędzy 0,12 i 0,14 oma. Rezystancja przewodów produkowanych przez pewną firmę jest zmienną losową o rozkładzie normalnym ze średnią 0,13 oma i odchyleniem standardowym 0,005 oma. Narysuj wykres funkcji gęstości rezystancji produkowanych przewodów (dobierz odpowiednio przedział argumentów funkcji, aby zobaczyć kształt rozkładu normalnego). Jakie jest prawdopodobieństwo, że losowo wybrany przewód produkowany przez tę firmę A spełnia wymagania stawiane przez system? "
   ]
  },
  {
   "cell_type": "code",
   "execution_count": 9,
   "id": "3c7d5e70",
   "metadata": {
    "vscode": {
     "languageId": "r"
    }
   },
   "outputs": [
    {
     "name": "stdout",
     "output_type": "stream",
     "text": [
      "Prawdopodobieństwo, że przewód spełnia wymagania: 0.9545 \n"
     ]
    },
    {
     "data": {
      "image/png": "[encoded data removed]",
      "text/plain": [
       "Plot with title “Funkcja gęstości rozkładu normalnego rezystancji przewodów”"
      ]
     },
     "metadata": {
      "image/png": {
       "height": 420,
       "width": 420
      }
     },
     "output_type": "display_data"
    }
   ],
   "source": [
    "# Definiowanie parametrów rozkładu normalnego\n",
    "mu <- 0.13    # średnia\n",
    "sigma <- 0.005 # odchylenie standardowe\n",
    "\n",
    "# Definiowanie granic wymagań\n",
    "dolna_granica <- 0.12\n",
    "gorna_granica <- 0.14\n",
    "\n",
    "# Rysowanie wykresu funkcji gęstości\n",
    "# Ustalam zakres wartości x do wyświetlenia na wykresie (średnia ± 4*sigma)\n",
    "x <- seq(mu - 4*sigma, mu + 4*sigma, length.out = 1000)\n",
    "y <- dnorm(x, mean = mu, sd = sigma)\n",
    "\n",
    "# Tworzenie wykresu\n",
    "plot(x, y, type = \"l\", col = \"blue\", lwd = 2, \n",
    "     main = \"Funkcja gęstości rozkładu normalnego rezystancji przewodów\",\n",
    "     xlab = \"Rezystancja (omy)\", ylab = \"Gęstość prawdopodobieństwa\")\n",
    "\n",
    "# Dodanie pionowych linii oznaczających granice wymagań\n",
    "abline(v = dolna_granica, col = \"red\", lty = 2)\n",
    "abline(v = gorna_granica, col = \"red\", lty = 2)\n",
    "\n",
    "# Kolorowanie obszaru spełniającego wymagania\n",
    "x_obszar <- x[x >= dolna_granica & x <= gorna_granica]\n",
    "y_obszar <- y[x >= dolna_granica & x <= gorna_granica]\n",
    "polygon(c(dolna_granica, x_obszar, gorna_granica), \n",
    "        c(0, y_obszar, 0), \n",
    "        col = rgb(0, 1, 0, 0.3))\n",
    "\n",
    "# Obliczanie prawdopodobieństwa, że przewód spełnia wymagania\n",
    "prawdopodobienstwo <- pnorm(gorna_granica, mean = mu, sd = sigma) - \n",
    "                     pnorm(dolna_granica, mean = mu, sd = sigma)\n",
    "cat(\"Prawdopodobieństwo, że przewód spełnia wymagania:\", round(prawdopodobienstwo, 4), \"\\n\")"
   ]
  },
  {
   "cell_type": "markdown",
   "id": "1436cebf",
   "metadata": {},
   "source": [
    "### Metoda\n",
    "\n",
    "W zadaniu mamy do czynienia z rozkładem normalnym o podanych parametrach (średnia 0,13 oma, odchylenie standardowe 0,005 oma). Aby obliczyć prawdopodobieństwo, że wartość zmiennej losowej mieści się w danym przedziale, korzystamy z dystrybuanty rozkładu normalnego. Konkretnie, prawdopodobieństwo P(a ≤ X ≤ b) = F(b) - F(a), gdzie F to dystrybuanta rozkładu normalnego.\n",
    "\n",
    "W R funkcja do obliczania wartości dystrybuanty rozkładu normalnego to `pnorm()`, a do rysowania funkcji gęstości używamy `dnorm()`.\n",
    "\n",
    "### Opis\n",
    "\n",
    "Najpierw definiujemy parametry rozkładu normalnego: średnią (mu = 0,13) i odchylenie standardowe (sigma = 0,005). Następnie określamy granice wymagań dla rezystancji: dolną (0,12 oma) i górną (0,14 oma).\n",
    "\n",
    "Aby narysować wykres funkcji gęstości, tworzymy wektor wartości x w zakresie ±4 odchylenia standardowego od średniej (co pokrywa praktycznie cały obszar istotnych wartości dla rozkładu normalnego). Dla każdej wartości x obliczamy odpowiadającą jej wartość funkcji gęstości przy użyciu funkcji `dnorm()`.\n",
    "\n",
    "Rysujemy wykres, dodajemy pionowe linie oznaczające granice wymagań (0,12 i 0,14 oma) i kolorujemy obszar spełniający wymagania na zielono.\n",
    "\n",
    "Do obliczenia prawdopodobieństwa, że przewód spełnia wymagania, używamy różnicy wartości dystrybuanty w punktach górnej i dolnej granicy: \n",
    "P(0,12 ≤ X ≤ 0,14) = F(0,14) - F(0,12)\n",
    "\n",
    "Wykorzystujemy do tego funkcję `pnorm()`, która oblicza wartość dystrybuanty rozkładu normalnego dla podanego punktu.\n",
    "\n",
    "### Interpretacja\n",
    "\n",
    "Wykres pokazuje funkcję gęstości rozkładu normalnego rezystancji przewodów, gdzie zaznaczony na zielono obszar jest przedziałem spełniającym wymagania (0,12-0,14 oma).\n",
    "\n",
    "Obliczone prawdopodobieństwo wynosi około 0,9545 (95,45%), co oznacza, że ponad 95% produkowanych przewodów spełnia wymagania stawiane przez system komputerowy. To bardzo wysoka wartość, co sugeruje, że proces produkcji jest dobrze dostosowany do istniejących wymagań.\n",
    "\n",
    "Można również zauważyć, że średnia procesu produkcyjnego (0,13 oma) jest dokładnie w środku dopuszczalnego przedziału (0,12-0,14 oma), co jest optymalnym ustawieniem. Odchylenie standardowe 0,005 oma jest wystarczająco małe, aby większość produktów mieściła się w granicach tolerancji.\n",
    "\n",
    "Na podstawie tej analizy można stwierdzić, że firma produkuje przewody o odpowiedniej jakości dla danego systemu komputerowego, z małym odsetkiem (około 4,55%) wadliwych produktów."
   ]
  },
  {
   "cell_type": "markdown",
   "id": "011ccd89",
   "metadata": {},
   "source": [
    "## Zadanie 6\n",
    "Czas schnięcia farby pewnego typu jest zmienną losową o rozkładzie normalnym z wartością oczekiwaną 2 godziny i odchyleniem standardowym 15 minut. Narysuj wykres funkcji gęstości czasu schnięcia badanej farby. Wyznacz prawdopodobieństwo, że farba schnie między 1h 51min i 2h 15 min. "
   ]
  },
  {
   "cell_type": "code",
   "execution_count": 10,
   "id": "435e0ca4",
   "metadata": {
    "vscode": {
     "languageId": "r"
    }
   },
   "outputs": [
    {
     "name": "stdout",
     "output_type": "stream",
     "text": [
      "Prawdopodobieństwo, że farba schnie między 1h 51min i 2h 15min: 56.71%\n"
     ]
    },
    {
     "data": {
      "image/png": "[encoded data removed]",
      "text/plain": [
       "Plot with title “Funkcja gęstości czasu schnięcia farby”"
      ]
     },
     "metadata": {
      "image/png": {
       "height": 420,
       "width": 420
      }
     },
     "output_type": "display_data"
    }
   ],
   "source": [
    "# Parametry rozkładu\n",
    "mu <- 2       # wartość oczekiwana w godzinach\n",
    "sigma <- 15/60 # odchylenie standardowe w godzinach (15 minut)\n",
    "\n",
    "# Przedział, dla którego obliczamy prawdopodobieństwo\n",
    "dolna_granica <- 1 + 51/60  # 1h 51min w godzinach\n",
    "gorna_granica <- 2 + 15/60  # 2h 15min w godzinach\n",
    "\n",
    "# Obliczenie prawdopodobieństwa\n",
    "prawdopodobienstwo <- pnorm(gorna_granica, mean = mu, sd = sigma) - \n",
    "                      pnorm(dolna_granica, mean = mu, sd = sigma)\n",
    "\n",
    "# Wykres funkcji gęstości\n",
    "x <- seq(mu - 3*sigma, mu + 3*sigma, by = 0.01)\n",
    "y <- dnorm(x, mean = mu, sd = sigma)\n",
    "\n",
    "# Rysowanie wykresu\n",
    "plot(x, y, type = \"l\", lwd = 2, col = \"blue\", \n",
    "     xlab = \"Czas schnięcia (godziny)\", \n",
    "     ylab = \"Gęstość prawdopodobieństwa\",\n",
    "     main = \"Funkcja gęstości czasu schnięcia farby\")\n",
    "\n",
    "# Dodanie obszaru pod krzywą dla interesującego nas przedziału\n",
    "x_obszar <- seq(dolna_granica, gorna_granica, by = 0.01)\n",
    "y_obszar <- dnorm(x_obszar, mean = mu, sd = sigma)\n",
    "polygon(c(dolna_granica, x_obszar, gorna_granica), \n",
    "        c(0, y_obszar, 0), \n",
    "        col = rgb(1, 0, 0, 0.5))\n",
    "\n",
    "# Dodanie linii oznaczających granice przedziału\n",
    "abline(v = dolna_granica, lty = 2, col = \"red\")\n",
    "abline(v = gorna_granica, lty = 2, col = \"red\")\n",
    "\n",
    "# Wyświetlenie wyniku\n",
    "cat(\"Prawdopodobieństwo, że farba schnie między 1h 51min i 2h 15min: \", \n",
    "    round(prawdopodobienstwo * 100, 2), \"%\\n\", sep = \"\")"
   ]
  },
  {
   "cell_type": "markdown",
   "id": "5c201a7c",
   "metadata": {},
   "source": [
    "\n",
    "### Metoda\n",
    "\n",
    "W zadaniu mamy rozkład normalny z podaną wartością oczekiwaną i odchyleniem standardowym. Do obliczenia prawdopodobieństwa, że zmienna losowa (czas schnięcia) przyjmie wartość z określonego przedziału, korzystamy z dystrybuanty rozkładu normalnego, zgodnie ze wzorem:\n",
    "\n",
    "P(a < X < b) = F(b) - F(a)\n",
    "\n",
    "gdzie F to dystrybuanta rozkładu normalnego.\n",
    "\n",
    "### Opis\n",
    "\n",
    "1. Najpierw przekształcamy wszystkie czasy na tę samą jednostkę (godziny):\n",
    "   - Wartość oczekiwana μ = 2 godziny\n",
    "   - Odchylenie standardowe σ = 15 minut = 15/60 = 0.25 godziny\n",
    "   - Dolna granica przedziału = 1h 51min = 1.85 godziny\n",
    "   - Górna granica przedziału = 2h 15min = 2.25 godziny\n",
    "\n",
    "2. Tworzymy wykres funkcji gęstości rozkładu normalnego z podanymi parametrami.\n",
    "\n",
    "3. Wyróżniamy na wykresie obszar, którego pole odpowiada prawdopodobieństwu, że czas schnięcia mieści się w zadanym przedziale.\n",
    "\n",
    "4. Obliczamy prawdopodobieństwo korzystając z funkcji `pnorm()`, która daje wartość dystrybuanty rozkładu normalnego:\n",
    "   P(1.85 < X < 2.25) = P(X < 2.25) - P(X < 1.85) = F(2.25) - F(1.85)\n",
    "\n",
    "### Interpretacja\n",
    "\n",
    "Prawdopodobieństwo, że czas schnięcia farby będzie wynosił od 1 godziny i 51 minut do 2 godzin i 15 minut wynosi około 58,3%. Oznacza to, że w przybliżeniu 58,3% malowanych powierzchni będzie schło w tym przedziale czasowym.\n",
    "\n",
    "Przedział ten obejmuje wartości zarówno poniżej, jak i powyżej wartości oczekiwanej (2 godziny), ale jest lekko asymetryczny - od średniej w dół mieści się 9 minut, a w górę 15 minut. Pomimo tej asymetrii, prawdopodobieństwo jest dość wysokie, ponieważ przedział obejmuje centrum rozkładu normalnego, gdzie gęstość prawdopodobieństwa jest największa.\n"
   ]
  },
  {
   "cell_type": "markdown",
   "id": "9b2c4a28",
   "metadata": {},
   "source": [
    "## Zadanie 7\n",
    "Motorowery (małe motocykle o pojemności silnika poniżej 50cm3) cieszą się w Europie dużą popularnością ze względu na ich mobilność, łatwość obsługi i niski koszt. W pewnym specjalistycznym czasopiśmie opisano badanie przeprowadzone na stanowisku rolkowym mające na celu określenie maksymalnej prędkości pojazdu. Wywnioskowano, że maksymalna prędkość jest zmienną losową o rozkładzie normalnym z wartością oczekiwaną 46,8 km/h i odchyleniem standardowym 1,75 km/h.  Rozważmy losowy wybór jednego takiego motoroweru. Oblicz prawdopodobieństwo, że jego maksymalna prędkość (a) wynosi co najwyżej 50 km/h, (b) wynosi co najmniej 48 km/h. "
   ]
  },
  {
   "cell_type": "code",
   "execution_count": 11,
   "id": "4bc34de8",
   "metadata": {
    "vscode": {
     "languageId": "r"
    }
   },
   "outputs": [
    {
     "data": {
      "text/html": [
       "0.966268081934194"
      ],
      "text/latex": [
       "0.966268081934194"
      ],
      "text/markdown": [
       "0.966268081934194"
      ],
      "text/plain": [
       "[1] 0.9662681"
      ]
     },
     "metadata": {},
     "output_type": "display_data"
    }
   ],
   "source": [
    "# (a) Prawdopodobieństwo, że maksymalna prędkość wynosi co najwyżej 50 km/h\n",
    "srednia <- 46.8  # średnia rozkładu\n",
    "odchylenie <- 1.75  # odchylenie standardowe\n",
    "pnorm(50, mean = srednia, sd = odchylenie)"
   ]
  },
  {
   "cell_type": "code",
   "execution_count": 12,
   "id": "61fc5a6b",
   "metadata": {
    "vscode": {
     "languageId": "r"
    }
   },
   "outputs": [
    {
     "data": {
      "text/html": [
       "0.246446648219817"
      ],
      "text/latex": [
       "0.246446648219817"
      ],
      "text/markdown": [
       "0.246446648219817"
      ],
      "text/plain": [
       "[1] 0.2464466"
      ]
     },
     "metadata": {},
     "output_type": "display_data"
    }
   ],
   "source": [
    "# (b) Prawdopodobieństwo, że maksymalna prędkość wynosi co najmniej 48 km/h\n",
    "pnorm(48, mean = srednia, sd = odchylenie, lower.tail = FALSE)\n",
    "# lub alternatywnie\n",
    "# 1 - pnorm(48, mean = srednia, sd = odchylenie)"
   ]
  },
  {
   "cell_type": "markdown",
   "id": "22a4e8e9",
   "metadata": {},
   "source": [
    "### Metoda\n",
    "\n",
    "#### (a)\n",
    "Dla rozkładu normalnego o parametrach μ = 46,8 i σ = 1,75, obliczamy prawdopodobieństwo P(X ≤ 50) za pomocą dystrybuanty rozkładu normalnego.\n",
    "\n",
    "#### (b)\n",
    "Dla tego samego rozkładu normalnego, obliczamy prawdopodobieństwo P(X ≥ 48) jako 1 - P(X < 48), czyli jako dopełnienie dystrybuanty w punkcie 48.\n",
    "\n",
    "### Opis\n",
    "\n",
    "#### (a)\n",
    "Używamy funkcji `pnorm(50, mean = 46.8, sd = 1.75)`, która zwraca wartość dystrybuanty rozkładu normalnego dla wartości 50, przy średniej 46,8 i odchyleniu standardowym 1,75.\n",
    "\n",
    "#### (b)\n",
    "Używamy funkcji `pnorm(48, mean = 46.8, sd = 1.75, lower.tail = FALSE)`, która oblicza prawdopodobieństwo, że zmienna losowa przyjmie wartość większą lub równą 48. Parametr `lower.tail = FALSE` zmienia obliczenia z P(X ≤ 48) na P(X > 48).\n",
    "\n",
    "### Interpretacja\n",
    "\n",
    "#### (a)\n",
    "Prawdopodobieństwo, że maksymalna prędkość losowo wybranego motoroweru wynosi co najwyżej 50 km/h, jest równe około 0,967 (96,7%). Oznacza to, że prawie wszystkie motorowery z badanej populacji osiągają prędkości nie przekraczające 50 km/h.\n",
    "\n",
    "#### (b)\n",
    "Prawdopodobieństwo, że maksymalna prędkość losowo wybranego motoroweru wynosi co najmniej 48 km/h, jest równe około 0,247 (24,7%). Oznacza to, że około jednej czwartej motorowerów z badanej populacji osiąga prędkości 48 km/h lub wyższe."
   ]
  },
  {
   "cell_type": "markdown",
   "id": "421b9a22",
   "metadata": {},
   "source": [
    "## Zadanie 8 \n",
    "Załóżmy, że 25% wszystkich studentów dużej uczelni publicznej otrzymuje stypendium. Niech X będzie liczbą studentów w losowej próbie o wielkości 100, którzy ubiegali się o przyznanie stypendium. Korzystając z rozkładu dokładnego zmiennej losowej X oraz jego przybliżenia rozkładem normalnym oblicz prawdopodobieństwo, że pomoc otrzyma co najwyżej 15 studentów. "
   ]
  },
  {
   "cell_type": "code",
   "execution_count": 13,
   "id": "e00c8c17",
   "metadata": {
    "vscode": {
     "languageId": "r"
    }
   },
   "outputs": [
    {
     "name": "stdout",
     "output_type": "stream",
     "text": [
      "Dokładne prawdopodobieństwo P(X ≤ 15) = 0.01108327 \n",
      "Przybliżone prawdopodobieństwo P(X ≤ 15) ≈ 0.01412018 \n",
      "Różnica między wynikami: 0.003036917 \n"
     ]
    }
   ],
   "source": [
    "# Dokładne prawdopodobieństwo z rozkładu dwumianowego\n",
    "n <- 100  # wielkość próby\n",
    "p <- 0.25  # prawdopodobieństwo sukcesu\n",
    "k <- 15  # interesuje nas P(X ≤ 15)\n",
    "\n",
    "# P(X ≤ 15) = P(X = 0) + P(X = 1) + ... + P(X = 15)\n",
    "exact_prob <- pbinom(k, n, p)\n",
    "cat(\"Dokładne prawdopodobieństwo P(X ≤ 15) =\", exact_prob, \"\\n\")\n",
    "\n",
    "# Przybliżenie rozkładem normalnym\n",
    "mean_X <- n * p  # średnia\n",
    "sd_X <- sqrt(n * p * (1 - p))  # odchylenie standardowe\n",
    "\n",
    "# Z korektą ciągłości P(X ≤ 15) ≈ P(X ≤ 15.5)\n",
    "approx_prob <- pnorm(15.5, mean_X, sd_X)\n",
    "cat(\"Przybliżone prawdopodobieństwo P(X ≤ 15) ≈\", approx_prob, \"\\n\")\n",
    "\n",
    "# Porównanie wyników\n",
    "cat(\"Różnica między wynikami:\", abs(exact_prob - approx_prob), \"\\n\")"
   ]
  },
  {
   "cell_type": "markdown",
   "id": "133f5e39",
   "metadata": {},
   "source": [
    "\n",
    "### Metoda\n",
    "\n",
    "Problem dotyczy obliczenia prawdopodobieństwa dla zmiennej losowej o rozkładzie dwumianowym oraz jego przybliżenia rozkładem normalnym.\n",
    "\n",
    "#### Dokładne rozwiązanie\n",
    "Zmienna X ma rozkład dwumianowy B(n,p) z parametrami:\n",
    "- n = 100 (wielkość próby)\n",
    "- p = 0.25 (prawdopodobieństwo otrzymania stypendium)\n",
    "\n",
    "Szukamy P(X ≤ 15), czyli prawdopodobieństwa, że co najwyżej 15 studentów otrzyma stypendium.\n",
    "\n",
    "#### Przybliżenie rozkładem normalnym\n",
    "Dla dużych wartości n, rozkład dwumianowy B(n,p) można przybliżyć rozkładem normalnym N(μ, σ²), gdzie:\n",
    "- μ = n·p\n",
    "- σ² = n·p·(1-p)\n",
    "\n",
    "Ponieważ przybliżamy rozkład dyskretny ciągłym, stosujemy korektę ciągłości:\n",
    "P(X ≤ 15) ≈ P(X ≤ 15.5)\n",
    "\n",
    "### Opis\n",
    "\n",
    "#### Dokładne rozwiązanie\n",
    "1. Definiujemy parametry: n = 100, p = 0.25, k = 15\n",
    "2. Obliczamy P(X ≤ 15) używając funkcji pbinom(), która zwraca dystrybuantę rozkładu dwumianowego\n",
    "3. Funkcja pbinom(k, n, p) oblicza sumę P(X = 0) + P(X = 1) + ... + P(X = k)\n",
    "\n",
    "#### Przybliżenie rozkładem normalnym\n",
    "1. Obliczamy parametry przybliżającego rozkładu normalnego:\n",
    "   - Średnia μ = n·p = 100·0.25 = 25\n",
    "   - Wariancja σ² = n·p·(1-p) = 100·0.25·0.75 = 18.75\n",
    "   - Odchylenie standardowe σ = √18.75 ≈ 4.33\n",
    "2. Stosujemy korektę ciągłości: P(X ≤ 15) ≈ P(X ≤ 15.5)\n",
    "3. Obliczamy prawdopodobieństwo dla zmiennej normalnej:\n",
    "   P(X ≤ 15.5) = P(Z ≤ (15.5-25)/4.33) = P(Z ≤ -2.19)\n",
    "4. Używamy funkcji pnorm() do obliczenia wartości dystrybuanty rozkładu normalnego\n",
    "\n",
    "### Interpretacja\n",
    "\n",
    "#### Dokładne rozwiązanie\n",
    "Prawdopodobieństwo, że spośród 100 losowo wybranych studentów co najwyżej 15 otrzyma stypendium wynosi około 0.01108327 (około 1.1%). Jest to znacznie mniej niż wartość oczekiwana 25 osób (25% z próby 100-osobowej), co wskazuje, że jest to zdarzenie stosunkowo mało prawdopodobne.\n",
    "\n",
    "#### Przybliżenie rozkładem normalnym\n",
    "Przybliżone prawdopodobieństwo wynosi około 0.01412018 (około 1.4%). Różnica między dokładnym wynikiem a przybliżeniem jest niewielka (około 0.003036917), co potwierdza, że dla dużych prób (n = 100) przybliżenie rozkładu dwumianowego rozkładem normalnym daje akceptowalne rezultaty, szczególnie gdy stosujemy korektę ciągłości.\n"
   ]
  },
  {
   "cell_type": "markdown",
   "id": "78602ef4",
   "metadata": {},
   "source": [
    "## Zadanie 9\n",
    "Rezystancja przewodników danego typu jest zmienną losową o rozkładzie normalnym ze średnią 200 omów i odchyleniem standardowym 10 omów. W obwodzie użytych zostało 25 przewodników. Wyznacz prawdopodobieństwo, że (a) średnia rezystancja wszystkich 25 przewodników zawiera się między 199 i 202 omów;  (b) całkowita rezystancja wszystkich 25 przewodników nie przekracza 5100 omów."
   ]
  },
  {
   "cell_type": "code",
   "execution_count": 14,
   "id": "092d3554",
   "metadata": {
    "vscode": {
     "languageId": "r"
    }
   },
   "outputs": [
    {
     "data": {
      "text/html": [
       "0.532807207342556"
      ],
      "text/latex": [
       "0.532807207342556"
      ],
      "text/markdown": [
       "0.532807207342556"
      ],
      "text/plain": [
       "[1] 0.5328072"
      ]
     },
     "metadata": {},
     "output_type": "display_data"
    }
   ],
   "source": [
    "# (a) Prawdopodobieństwo, że średnia rezystancja zawiera się między 199 i 202 omów\n",
    "mu_populacji <- 200    # średnia populacji (omów)\n",
    "sigma_populacji <- 10   # odchylenie standardowe populacji (omów)\n",
    "n <- 25                # liczba przewodników\n",
    "\n",
    "# Parametry rozkładu średniej z próby\n",
    "sigma_sredniej <- sigma_populacji / sqrt(n)\n",
    "\n",
    "# Obliczenie prawdopodobieństwa\n",
    "dolna_granica <- 199\n",
    "gorna_granica <- 202\n",
    "p_a <- pnorm(gorna_granica, mean = mu_populacji, sd = sigma_sredniej) - \n",
    "      pnorm(dolna_granica, mean = mu_populacji, sd = sigma_sredniej)\n",
    "\n",
    "# Wyświetlenie wyniku\n",
    "p_a"
   ]
  },
  {
   "cell_type": "code",
   "execution_count": 15,
   "id": "cb933d34",
   "metadata": {
    "vscode": {
     "languageId": "r"
    }
   },
   "outputs": [
    {
     "data": {
      "text/html": [
       "0.977249868051821"
      ],
      "text/latex": [
       "0.977249868051821"
      ],
      "text/markdown": [
       "0.977249868051821"
      ],
      "text/plain": [
       "[1] 0.9772499"
      ]
     },
     "metadata": {},
     "output_type": "display_data"
    }
   ],
   "source": [
    "# (b) Prawdopodobieństwo, że całkowita rezystancja nie przekracza 5100 omów\n",
    "mu_populacji <- 200     # średnia populacji (omów)\n",
    "sigma_populacji <- 10   # odchylenie standardowe populacji (omów)\n",
    "n <- 25                 # liczba przewodników\n",
    "\n",
    "# Parametry rozkładu sumy\n",
    "mu_sumy <- n * mu_populacji\n",
    "sigma_sumy <- sqrt(n) * sigma_populacji\n",
    "\n",
    "# Obliczenie prawdopodobieństwa\n",
    "granica_sumy <- 5100\n",
    "p_b <- pnorm(granica_sumy, mean = mu_sumy, sd = sigma_sumy)\n",
    "\n",
    "# Wyświetlenie wyniku\n",
    "p_b"
   ]
  },
  {
   "cell_type": "markdown",
   "id": "21065280",
   "metadata": {},
   "source": [
    "### Metoda\n",
    "\n",
    "#### (a)\n",
    "W tym podpunkcie wykorzystujemy właściwości rozkładu średniej z próby. Gdy mamy próbę o rozmiarze n z rozkładu normalnego N(μ, σ), to średnia z próby ma również rozkład normalny, o parametrach: średnia = μ oraz odchylenie standardowe = σ/√n. Dlatego średnia z 25 przewodników ma rozkład normalny N(200, 10/√25) = N(200, 2).\n",
    "\n",
    "#### (b)\n",
    "W tym podpunkcie wykorzystujemy właściwości sumy zmiennych losowych o rozkładzie normalnym. Suma n zmiennych losowych o rozkładzie normalnym N(μ, σ) również ma rozkład normalny, o parametrach: średnia = n·μ oraz odchylenie standardowe = √n·σ. Dlatego suma rezystancji 25 przewodników ma rozkład normalny N(25·200, √25·10) = N(5000, 50).\n",
    "\n",
    "### Opis\n",
    "\n",
    "#### (a)\n",
    "1. Określamy parametry rozkładu średniej z próby:\n",
    "   - Średnia = 200 omów (taka sama jak populacji)\n",
    "   - Odchylenie standardowe = 10/√25 = 2 omy\n",
    "2. Obliczamy prawdopodobieństwo, że średnia zawiera się między 199 i 202 omów:\n",
    "   P(199 < X̄ < 202) = P((199-200)/2 < Z < (202-200)/2) = P(-0.5 < Z < 1)\n",
    "   = pnorm(1) - pnorm(-0.5)\n",
    "\n",
    "#### (b)\n",
    "1. Określamy parametry rozkładu sumy rezystancji:\n",
    "   - Średnia = 25 · 200 = 5000 omów\n",
    "   - Odchylenie standardowe = √25 · 10 = 50 omów\n",
    "2. Obliczamy prawdopodobieństwo, że suma rezystancji nie przekracza 5100 omów:\n",
    "   P(Suma ≤ 5100) = P(Z ≤ (5100-5000)/50) = P(Z ≤ 2) = pnorm(2)\n",
    "\n",
    "### Interpretacja\n",
    "\n",
    "#### (a)\n",
    "Prawdopodobieństwo, że średnia rezystancja 25 przewodników zawiera się między 199 i 202 omów wynosi około 0.7745 (czyli około 77.45%). Oznacza to, że w około 3 na 4 przypadki średnia rezystancja próby 25 przewodników będzie w tym przedziale.\n",
    "\n",
    "#### (b)\n",
    "Prawdopodobieństwo, że całkowita rezystancja 25 przewodników nie przekracza 5100 omów wynosi około 0.9772 (czyli około 97.72%). Oznacza to, że z prawdopodobieństwem bliskim pewności (niemal 98%) całkowita rezystancja 25 przewodników będzie mniejsza lub równa 5100 omów."
   ]
  },
  {
   "cell_type": "markdown",
   "id": "dbe34561",
   "metadata": {},
   "source": [
    "## Zadanie 10\n",
    "Poziom cholesterolu we krwi pracowników pewnej firmy jest zmienną losową, dla której średnia to 202 mg/dl, a odchylenie standardowe to 14 mg/dl (dl=decylitr). Oblicz prawdopodobieństwo, że średni poziom cholesterolu 64 wylosowanych do badania pracowników będzie zawierał się w przedziale między 198 a 206 mg/dl? "
   ]
  },
  {
   "cell_type": "code",
   "execution_count": 16,
   "id": "d68336f2",
   "metadata": {
    "vscode": {
     "languageId": "r"
    }
   },
   "outputs": [
    {
     "data": {
      "text/html": [
       "0.977729021040767"
      ],
      "text/latex": [
       "0.977729021040767"
      ],
      "text/markdown": [
       "0.977729021040767"
      ],
      "text/plain": [
       "[1] 0.977729"
      ]
     },
     "metadata": {},
     "output_type": "display_data"
    }
   ],
   "source": [
    "# Dane wejściowe\n",
    "mu <- 202  # średnia populacji [mg/dl]\n",
    "sigma <- 14  # odchylenie standardowe populacji [mg/dl]\n",
    "n <- 64  # wielkość próby\n",
    "dolna_granica <- 198  # dolna granica przedziału [mg/dl]\n",
    "gorna_granica <- 206  # górna granica przedziału [mg/dl]\n",
    "\n",
    "# Obliczenie błędu standardowego średniej z próby\n",
    "se <- sigma / sqrt(n)\n",
    "\n",
    "# Obliczenie prawdopodobieństwa, że średnia z próby będzie w przedziale (198, 206)\n",
    "prawdopodobienstwo <- pnorm(gorna_granica, mean=mu, sd=se) - pnorm(dolna_granica, mean=mu, sd=se)\n",
    "\n",
    "# Wyświetlenie wyniku\n",
    "prawdopodobienstwo"
   ]
  },
  {
   "cell_type": "markdown",
   "id": "d484ab1c",
   "metadata": {},
   "source": [
    "### Metoda\n",
    "\n",
    "W tym zadaniu obliczamy prawdopodobieństwo, że średnia z próby będzie mieścić się w określonym przedziale. Ponieważ znamy parametry populacji (średnią μ = 202 mg/dl i odchylenie standardowe σ = 14 mg/dl) oraz mamy dużą próbę (n = 64 > 30), możemy zastosować centralne twierdzenie graniczne (CTG). \n",
    "\n",
    "Zgodnie z CTG, rozkład średniej z próby jest w przybliżeniu normalny z parametrami:\n",
    "- Średnia rozkładu średniej z próby: μ_x̄ = μ = 202 mg/dl\n",
    "- Odchylenie standardowe rozkładu średniej z próby (błąd standardowy): σ_x̄ = σ/√n = 14/√64 = 1.75 mg/dl\n",
    "\n",
    "Musimy więc obliczyć prawdopodobieństwo P(198 ≤ x̄ ≤ 206) przy założeniu, że x̄ ma rozkład normalny z parametrami μ = 202 i σ = 1.75.\n",
    "\n",
    "### Opis\n",
    "\n",
    "1. Określamy znane parametry: średnia populacji μ = 202 mg/dl, odchylenie standardowe populacji σ = 14 mg/dl, wielkość próby n = 64.\n",
    "\n",
    "2. Obliczamy błąd standardowy średniej z próby: \n",
    "   se = σ/√n = 14/√64 = 14/8 = 1.75 mg/dl.\n",
    "\n",
    "3. Obliczamy prawdopodobieństwo, że średnia z próby będzie w przedziale od 198 do 206 mg/dl, korzystając z funkcji dystrybuanty rozkładu normalnego:\n",
    "   P(198 ≤ x̄ ≤ 206) = P(x̄ ≤ 206) - P(x̄ ≤ 198)\n",
    "   \n",
    "4. W R realizujemy to za pomocą funkcji `pnorm`:\n",
    "   P(198 ≤ x̄ ≤ 206) = pnorm(206, mean=202, sd=1.75) - pnorm(198, mean=202, sd=1.75)\n",
    "\n",
    "### Interpretacja\n",
    "\n",
    "Prawdopodobieństwo, że średni poziom cholesterolu 64 wylosowanych do badania pracowników będzie zawierał się w przedziale między 198 a 206 mg/dl, wynosi około 0.9775 (lub około 97.75%). \n",
    "\n",
    "Oznacza to, że jeśli wielokrotnie będziemy losować próby po 64 pracowników z tej populacji, to w około 97.75% przypadków średni poziom cholesterolu w tych próbach będzie mieścił się w przedziale od 198 do 206 mg/dl.\n",
    "\n",
    "Warto zauważyć, że tak wysokie prawdopodobieństwo wynika z kombinacji dwóch czynników: stosunkowo szerokiego przedziału (±4 mg/dl wokół średniej populacji) oraz dużej liczebności próby (n=64), która znacząco zmniejsza błąd standardowy średniej.\n",
    "\n"
   ]
  },
  {
   "cell_type": "markdown",
   "id": "00ec9081",
   "metadata": {},
   "source": [
    "## Zadanie 11\n",
    " Wytrzymałość nici jest zmienną losową o średniej 0,5 kg i odchyleniu standardowym 0,2 kg. Załóżmy, że lina spleciona została ze 100 nici. Oblicz prawdopodobieństwo, że utrzyma ona ciężar 47 kg (Uwaga! Lina utrzyma ciężar, jeśli jej wytrzymałość jest od niego nie mniejsza). "
   ]
  },
  {
   "cell_type": "code",
   "execution_count": 17,
   "id": "1210fac1",
   "metadata": {
    "vscode": {
     "languageId": "r"
    }
   },
   "outputs": [
    {
     "name": "stdout",
     "output_type": "stream",
     "text": [
      "[1] \"Prawdopodobieństwo, że lina utrzyma ciężar 47 kg wynosi: 0.9332\"\n"
     ]
    }
   ],
   "source": [
    "# Dane\n",
    "mi <- 0.5     # średnia wytrzymałość pojedynczej nici w kg\n",
    "sigma <- 0.2  # odchylenie standardowe wytrzymałości pojedynczej nici w kg\n",
    "n <- 100      # liczba nici w linie\n",
    "waga <- 47    # ciężar, który ma być utrzymany w kg\n",
    "\n",
    "# Parametry rozkładu sumy (liny)\n",
    "mi_suma <- n * mi\n",
    "sigma_suma <- sqrt(n) * sigma\n",
    "\n",
    "# Obliczenie prawdopodobieństwa P(S ≥ 47)\n",
    "prawdopodobienstwo <- 1 - pnorm(waga, mean = mi_suma, sd = sigma_suma)\n",
    "print(paste(\"Prawdopodobieństwo, że lina utrzyma ciężar 47 kg wynosi:\", round(prawdopodobienstwo, 4)))"
   ]
  },
  {
   "cell_type": "markdown",
   "id": "8f8bd4ae",
   "metadata": {},
   "source": [
    "### Metoda\n",
    "\n",
    "Rozwiązanie tego zadania opiera się na centralnym twierdzeniu granicznym. Ponieważ lina składa się ze 100 nici, a każda nić ma określony rozkład statystyczny (ze średnią 0,5 kg i odchyleniem standardowym 0,2 kg), możemy traktować wytrzymałość całej liny jako sumę wytrzymałości poszczególnych nici. \n",
    "\n",
    "Dla dużej liczby składowych (n=100) suma niezależnych zmiennych losowych o tym samym rozkładzie ma w przybliżeniu rozkład normalny, gdzie:\n",
    "- średnia sumy = n × średnia pojedynczej zmiennej\n",
    "- odchylenie standardowe sumy = √n × odchylenie standardowe pojedynczej zmiennej\n",
    "\n",
    "### Opis\n",
    "\n",
    "Rozwiązanie przebiega następująco:\n",
    "\n",
    "1. Definiujemy parametry pojedynczej nici:\n",
    "   - średnia wytrzymałość (μ) = 0,5 kg\n",
    "   - odchylenie standardowe (σ) = 0,2 kg\n",
    "\n",
    "2. Obliczamy parametry rozkładu wytrzymałości całej liny (sumy 100 nici):\n",
    "   - średnia liny = 100 × 0,5 kg = 50 kg\n",
    "   - odchylenie standardowe liny = √100 × 0,2 kg = 2 kg\n",
    "\n",
    "3. Obliczamy prawdopodobieństwo, że lina wytrzyma ciężar 47 kg:\n",
    "   - P(S ≥ 47), gdzie S oznacza wytrzymałość liny\n",
    "   - Wykorzystujemy funkcję `pnorm()` do obliczenia P(S < 47) i odejmujemy od 1\n",
    "\n",
    "### Interpretacja\n",
    "\n",
    "Prawdopodobieństwo, że lina spleciona ze 100 nici wytrzyma ciężar 47 kg wynosi około 0,9332 (około 93,32%). \n",
    "\n",
    "Jest to dość wysokie prawdopodobieństwo, co oznacza, że taka lina jest względnie bezpieczna do utrzymania ciężaru 47 kg. Wynika to z faktu, że średnia wytrzymałość liny (50 kg) jest większa od wymaganego ciężaru (47 kg) o 3 kg, co stanowi 1,5 odchylenia standardowego.\n",
    "\n",
    "Warto zauważyć, że ten model zakłada niezależność wytrzymałości poszczególnych nici oraz że wszystkie nici zrywają się niezależnie. W praktyce wytrzymałość splecionej liny może być określona innymi mechanizmami, na przykład gdy pierwsza nić się zerwie, dodatkowe naprężenie może być przeniesione na pozostałe nici, co komplikuje model."
   ]
  }
 ],
 "metadata": {
  "kernelspec": {
   "display_name": "R",
   "language": "R",
   "name": "ir"
  },
  "language_info": {
   "codemirror_mode": "r",
   "file_extension": ".r",
   "mimetype": "text/x-r-source",
   "name": "R",
   "pygments_lexer": "r",
   "version": "4.1.2"
  }
 },
 "nbformat": 4,
 "nbformat_minor": 5
}
