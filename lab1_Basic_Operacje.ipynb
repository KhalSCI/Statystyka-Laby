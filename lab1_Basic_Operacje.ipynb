{
 "cells": [
  {
   "cell_type": "markdown",
   "id": "06232ff4",
   "metadata": {},
   "source": [
    "# Lab 1 (Basic Operacje na wektorach macierzach i liczbach)\n"
   ]
  },
  {
   "cell_type": "markdown",
   "id": "26feaacc",
   "metadata": {},
   "source": [
    "### Zadanie 1\n",
    "Oblicz: \n",
    "- $\\sin(2)$\n",
    "- $\\cos(\\frac{3\\pi}{4})$\n",
    "- $\\tan(\\alpha)$\n",
    "- $\\log(100)$\n",
    "- $\\ln(15)$\n",
    "- $\\log_7(1)$\n",
    "- $e^3$\n",
    "- $\\sqrt[3]{64}$"
   ]
  },
  {
   "cell_type": "code",
   "execution_count": 1,
   "id": "a65a4f55",
   "metadata": {
    "vscode": {
     "languageId": "r"
    }
   },
   "outputs": [
    {
     "name": "stdout",
     "output_type": "stream",
     "text": [
      "2 sin(π/4) = 1.414214 \n",
      "4 - 3 cos(π) = 7 \n",
      "tg(π/3) = 1.732051 \n",
      "log(100) = 2 \n",
      "ln(15) = 2.70805 \n",
      "log_7(7^1) = 1 \n",
      "e^3 = 20.08554 \n",
      "∛64 = 4 \n"
     ]
    }
   ],
   "source": [
    "# 1. Obliczenie wartości 2 sin(π/4)\n",
    "wynik1 <- 2 * sin(pi/4)\n",
    "cat(\"2 sin(π/4) =\", wynik1, \"\\n\")\n",
    "\n",
    "# 2. Obliczenie wartości 4 - 3 cos(π)\n",
    "wynik2 <- 4 - 3 * cos(pi)\n",
    "cat(\"4 - 3 cos(π) =\", wynik2, \"\\n\")\n",
    "\n",
    "# 3. Obliczenie wartości tg(π/3)\n",
    "wynik3 <- tan(pi/3)\n",
    "cat(\"tg(π/3) =\", wynik3, \"\\n\")\n",
    "\n",
    "# 4. Obliczenie wartości log(100)\n",
    "wynik4 <- log10(100)\n",
    "cat(\"log(100) =\", wynik4, \"\\n\")\n",
    "\n",
    "# 5. Obliczenie wartości ln(15)\n",
    "wynik5 <- log(15)\n",
    "cat(\"ln(15) =\", wynik5, \"\\n\")\n",
    "\n",
    "# 6. Obliczenie wartości log_7(7^1)\n",
    "wynik6 <- 1  # log_a(a^n) = n\n",
    "cat(\"log_7(7^1) =\", wynik6, \"\\n\")\n",
    "\n",
    "# 7. Obliczenie wartości e^3\n",
    "wynik7 <- exp(3)\n",
    "cat(\"e^3 =\", wynik7, \"\\n\")\n",
    "\n",
    "# 8. Obliczenie wartości ∛64 (pierwiastek sześcienny z 64)\n",
    "wynik8 <- 64^(1/3)\n",
    "cat(\"∛64 =\", wynik8, \"\\n\")"
   ]
  },
  {
   "cell_type": "markdown",
   "id": "0b08f8d6",
   "metadata": {},
   "source": [
    "## Zadanie 2\n",
    "\n",
    "Utwórz wektor o składowych od 1 do 10. Zsumuj składowe wektora. "
   ]
  },
  {
   "cell_type": "code",
   "execution_count": 2,
   "id": "0ffa622d",
   "metadata": {
    "vscode": {
     "languageId": "r"
    }
   },
   "outputs": [
    {
     "name": "stdout",
     "output_type": "stream",
     "text": [
      " [1]  1  2  3  4  5  6  7  8  9 10\n",
      "[1] \"Suma składowych wektora wynosi: 55\"\n"
     ]
    }
   ],
   "source": [
    "# Tworzenie wektora o składowych od 1 do 10\n",
    "wektor <- 1:10\n",
    "print(wektor)\n",
    "\n",
    "# Sumowanie składowych wektora\n",
    "suma <- sum(wektor)\n",
    "print(paste(\"Suma składowych wektora wynosi:\", suma))"
   ]
  },
  {
   "cell_type": "markdown",
   "id": "97549f97",
   "metadata": {},
   "source": [
    "## Zadanie 3\n",
    "\n",
    "Utwórz wektor x którego składowymi są liczby parzyste od 2 to 20, a następnie a) zweryfikuj liczbę składowych wektora x; b) zdefiniuj nowy wektor, y, którego składowe sa takie same jak wektora x, tylko w odwrotnej kolejności; c) sprawdź, czym jest wynik działania x*x oraz x^2; d) wyznacz długość (euklidesową) wektora x; e) sprawdź, czym jest wynik mnożenia (macierzowego) transpozycji wektora x przez wektor y oraz wektora x przez transpozycję wektora y. "
   ]
  },
  {
   "cell_type": "code",
   "execution_count": 3,
   "id": "da1cbb75",
   "metadata": {
    "vscode": {
     "languageId": "r"
    }
   },
   "outputs": [
    {
     "name": "stdout",
     "output_type": "stream",
     "text": [
      "[1] \"Wektor x:\"\n",
      " [1]  2  4  6  8 10 12 14 16 18 20\n",
      "[1] \"Liczba składowych wektora x: 10\"\n",
      "[1] \"Wektor y (odwrócony wektor x):\"\n",
      " [1] 20 18 16 14 12 10  8  6  4  2\n",
      "[1] \"Wynik działania x*x (iloczyn elementowy):\"\n",
      " [1]   4  16  36  64 100 144 196 256 324 400\n",
      "[1] \"Wynik działania x^2 (potęgowanie każdego elementu):\"\n",
      " [1]   4  16  36  64 100 144 196 256 324 400\n",
      "[1] \"Czy x*x i x^2 są równe? TRUE\"\n",
      "[1] \"Długość euklidesowa wektora x: 39.2428337406972\"\n",
      "[1] \"Wynik mnożenia t(x) %*% y:\"\n",
      "     [,1]\n",
      "[1,]  880\n",
      "[1] \"Wynik mnożenia x %*% t(y):\"\n",
      "      [,1] [,2] [,3] [,4] [,5] [,6] [,7] [,8] [,9] [,10]\n",
      " [1,]   40   36   32   28   24   20   16   12    8     4\n",
      " [2,]   80   72   64   56   48   40   32   24   16     8\n",
      " [3,]  120  108   96   84   72   60   48   36   24    12\n",
      " [4,]  160  144  128  112   96   80   64   48   32    16\n",
      " [5,]  200  180  160  140  120  100   80   60   40    20\n",
      " [6,]  240  216  192  168  144  120   96   72   48    24\n",
      " [7,]  280  252  224  196  168  140  112   84   56    28\n",
      " [8,]  320  288  256  224  192  160  128   96   64    32\n",
      " [9,]  360  324  288  252  216  180  144  108   72    36\n",
      "[10,]  400  360  320  280  240  200  160  120   80    40\n"
     ]
    }
   ],
   "source": [
    "# a) Utworzenie wektora x zawierającego liczby parzyste od 2 do 20\n",
    "x <- seq(2, 20, by=2)\n",
    "print(\"Wektor x:\")\n",
    "print(x)\n",
    "\n",
    "# a) Weryfikacja liczby składowych wektora x\n",
    "liczba_skladowych <- length(x)\n",
    "print(paste(\"Liczba składowych wektora x:\", liczba_skladowych))\n",
    "\n",
    "# b) Utworzenie wektora y z odwróconą kolejnością elementów wektora x\n",
    "y <- rev(x)\n",
    "print(\"Wektor y (odwrócony wektor x):\")\n",
    "print(y)\n",
    "\n",
    "# c) Sprawdzenie wyniku działania x*x oraz x^2\n",
    "iloczyn_elementowy <- x * x\n",
    "print(\"Wynik działania x*x (iloczyn elementowy):\")\n",
    "print(iloczyn_elementowy)\n",
    "\n",
    "potegowanie <- x^2\n",
    "print(\"Wynik działania x^2 (potęgowanie każdego elementu):\")\n",
    "print(potegowanie)\n",
    "\n",
    "# Sprawdzenie czy x*x i x^2 są równe\n",
    "print(paste(\"Czy x*x i x^2 są równe?\", all(iloczyn_elementowy == potegowanie)))\n",
    "\n",
    "# d) Wyznaczenie długości euklidesowej wektora x\n",
    "dlugosc_euklidesowa <- sqrt(sum(x^2))\n",
    "print(paste(\"Długość euklidesowa wektora x:\", dlugosc_euklidesowa))\n",
    "\n",
    "# e) Sprawdzenie wyniku mnożenia macierzowego\n",
    "# transpozycja x przez y\n",
    "iloczyn_transpozycja_x_przez_y <- t(x) %*% y\n",
    "print(\"Wynik mnożenia t(x) %*% y:\")\n",
    "print(iloczyn_transpozycja_x_przez_y)\n",
    "\n",
    "# x przez transpozycja y\n",
    "iloczyn_x_przez_transpozycja_y <- x %*% t(y)\n",
    "print(\"Wynik mnożenia x %*% t(y):\")\n",
    "print(iloczyn_x_przez_transpozycja_y)"
   ]
  },
  {
   "cell_type": "markdown",
   "id": "d70cb1bd",
   "metadata": {},
   "source": [
    "## Zadanie 4\n",
    "Utwórz wektor o 13 składowych, którego pierwsza składowa jest równa 5, ostatnia 10, natomiast wszystkie pozostałe są równo oddalone od siebie."
   ]
  },
  {
   "cell_type": "code",
   "execution_count": 4,
   "id": "cd727bf1",
   "metadata": {
    "vscode": {
     "languageId": "r"
    }
   },
   "outputs": [
    {
     "name": "stdout",
     "output_type": "stream",
     "text": [
      "[1] \"Utworzony wektor:\"\n",
      " [1]  5.000000  5.416667  5.833333  6.250000  6.666667  7.083333  7.500000\n",
      " [8]  7.916667  8.333333  8.750000  9.166667  9.583333 10.000000\n"
     ]
    }
   ],
   "source": [
    "# Utworzenie wektora o 13 składowych, od 5 do 10, z równymi odstępami\n",
    "wektor <- seq(from = 5, to = 10, length.out = 13)\n",
    "print(\"Utworzony wektor:\")\n",
    "print(wektor)"
   ]
  },
  {
   "cell_type": "markdown",
   "id": "737b124b",
   "metadata": {},
   "source": [
    "## Zadanie 5\n",
    " Utwórz wektory z1 i z2 będące odpowiednio 5-krotną replikacją wektora (1,2) i 5-krotną replikacją składowych wektora (1,2). Wykonaj polecenia: a) dodaj 4 do każdej składowej wektora z1; b) zdefiniuj nowy wektor, z3, przez usunięcie ostatniej składowej wektora z2;  c) zadeklaruj nowy wektor, c, jako sumę wektorów z1 i z3 i zweryfikuj wyniki; d) zdefiniuj nowy wektor, którego składowe to elementy wektora z1, które są większe niż 1. "
   ]
  },
  {
   "cell_type": "code",
   "execution_count": 5,
   "id": "a4e8f51e",
   "metadata": {
    "vscode": {
     "languageId": "r"
    }
   },
   "outputs": [
    {
     "name": "stdout",
     "output_type": "stream",
     "text": [
      "[1] \"Wektor z1 (5-krotna replikacja wektora (1,2)):\"\n",
      " [1] 1 2 1 2 1 2 1 2 1 2\n",
      "[1] \"Wektor z2 (5-krotna replikacja składowych wektora (1,2)):\"\n",
      " [1] 1 1 1 1 1 2 2 2 2 2\n",
      "[1] \"a) Wektor z1 po dodaniu 4 do każdej składowej:\"\n",
      " [1] 5 6 5 6 5 6 5 6 5 6\n",
      "[1] \"b) Wektor z3 (wektor z2 bez ostatniej składowej):\"\n",
      "[1] 1 1 1 1 1 2 2 2 2\n",
      "[1] \"Długość wektora z1: 10\"\n",
      "[1] \"Długość wektora z3: 9\"\n"
     ]
    },
    {
     "name": "stderr",
     "output_type": "stream",
     "text": [
      "Warning message in z1 + z3:\n",
      "“longer object length is not a multiple of shorter object length”\n"
     ]
    },
    {
     "name": "stdout",
     "output_type": "stream",
     "text": [
      "[1] \"c) Wektor c (suma wektorów z1 i z3):\"\n",
      " [1] 2 3 2 3 2 4 3 4 3 3\n",
      "[1] \"d) Wektor zawierający elementy z1 większe niż 1:\"\n",
      "[1] 2 2 2 2 2\n"
     ]
    }
   ],
   "source": [
    "# Utworzenie wektorów z1 i z2\n",
    "z1 <- rep(c(1, 2), times = 5)\n",
    "z2 <- rep(c(1, 2), each = 5)\n",
    "\n",
    "# Wyświetlenie utworzonych wektorów\n",
    "print(\"Wektor z1 (5-krotna replikacja wektora (1,2)):\")\n",
    "print(z1)\n",
    "print(\"Wektor z2 (5-krotna replikacja składowych wektora (1,2)):\")\n",
    "print(z2)\n",
    "\n",
    "# a) Dodanie 4 do każdej składowej wektora z1\n",
    "z1_plus_4 <- z1 + 4\n",
    "print(\"a) Wektor z1 po dodaniu 4 do każdej składowej:\")\n",
    "print(z1_plus_4)\n",
    "\n",
    "# b) Utworzenie wektora z3 przez usunięcie ostatniej składowej wektora z2\n",
    "z3 <- z2[-length(z2)]\n",
    "print(\"b) Wektor z3 (wektor z2 bez ostatniej składowej):\")\n",
    "print(z3)\n",
    "\n",
    "# c) Zdefiniowanie wektora c jako sumy wektorów z1 i z3\n",
    "# Najpierw sprawdzmy długości wektorów\n",
    "print(paste(\"Długość wektora z1:\", length(z1)))\n",
    "print(paste(\"Długość wektora z3:\", length(z3)))\n",
    "\n",
    "# Wykonanie sumowania - jeśli długości są różne, R wykona operację cyklicznie\n",
    "c <- z1 + z3\n",
    "print(\"c) Wektor c (suma wektorów z1 i z3):\")\n",
    "print(c)\n",
    "\n",
    "# d) Zdefiniowanie nowego wektora zawierającego elementy z1 większe niż 1\n",
    "wektor_wieksze_niz_1 <- z1[z1 > 1]\n",
    "print(\"d) Wektor zawierający elementy z1 większe niż 1:\")\n",
    "print(wektor_wieksze_niz_1)"
   ]
  },
  {
   "cell_type": "markdown",
   "id": "2d85ca3c",
   "metadata": {},
   "source": [
    "## Zadanie 6\n",
    " Utwórz wektor a, którego składowymi są: 1, 3, 6, 2, 7, 4.  a) Wskaż najmniejszy składnik a.  b) Wskaż indeks najmniejszego składnika a. c) Podane indeksy wszystkich składników a, które są mniejsze lub równe 4. d) Oblicz sumę elementów a.  e) Oblicz sumę kwadratów składników a. f) Oblicz długość a. g) Określ trzecią składową a.  h) Utwórz nowy wektor, b, równy wektorowi a bez czwartej składowej.  \n"
   ]
  },
  {
   "cell_type": "code",
   "execution_count": 6,
   "id": "70efc2db",
   "metadata": {
    "vscode": {
     "languageId": "r"
    }
   },
   "outputs": [
    {
     "name": "stdout",
     "output_type": "stream",
     "text": [
      "[1] \"Wektor a:\"\n",
      "[1] 1 3 6 2 7 4\n",
      "[1] \"a) Najmniejszy składnik wektora a: 1\"\n",
      "[1] \"b) Indeks najmniejszego składnika wektora a: 1\"\n",
      "[1] \"c) Indeksy wszystkich składników a, które są mniejsze lub równe 4:\"\n",
      "[1] 1 2 4 6\n",
      "[1] \"d) Suma elementów wektora a: 23\"\n",
      "[1] \"e) Suma kwadratów składników wektora a: 115\"\n",
      "[1] \"f) Długość wektora a: 6\"\n",
      "[1] \"g) Trzecia składowa wektora a: 6\"\n",
      "[1] \"h) Wektor b (wektor a bez czwartej składowej):\"\n",
      "[1] 1 3 6 7 4\n"
     ]
    }
   ],
   "source": [
    "# Utworzenie wektora a\n",
    "a <- c(1, 3, 6, 2, 7, 4)\n",
    "print(\"Wektor a:\")\n",
    "print(a)\n",
    "\n",
    "# a) Znalezienie najmniejszego składnika wektora a\n",
    "najmniejszy_skladnik <- min(a)\n",
    "print(paste(\"a) Najmniejszy składnik wektora a:\", najmniejszy_skladnik))\n",
    "\n",
    "# b) Znalezienie indeksu najmniejszego składnika wektora a\n",
    "indeks_min <- which.min(a)\n",
    "print(paste(\"b) Indeks najmniejszego składnika wektora a:\", indeks_min))\n",
    "\n",
    "# c) Znalezienie indeksów wszystkich składników mniejszych lub równych 4\n",
    "indeksy_mniejsze_rowne_4 <- which(a <= 4)\n",
    "print(\"c) Indeksy wszystkich składników a, które są mniejsze lub równe 4:\")\n",
    "print(indeksy_mniejsze_rowne_4)\n",
    "\n",
    "# d) Obliczenie sumy elementów wektora a\n",
    "suma_elementow <- sum(a)\n",
    "print(paste(\"d) Suma elementów wektora a:\", suma_elementow))\n",
    "\n",
    "# e) Obliczenie sumy kwadratów składników wektora a\n",
    "suma_kwadratow <- sum(a^2)\n",
    "print(paste(\"e) Suma kwadratów składników wektora a:\", suma_kwadratow))\n",
    "\n",
    "# f) Obliczenie długości wektora a\n",
    "dlugosc_a <- length(a)\n",
    "print(paste(\"f) Długość wektora a:\", dlugosc_a))\n",
    "\n",
    "# g) Określenie trzeciej składowej wektora a\n",
    "trzecia_skladowa <- a[3]\n",
    "print(paste(\"g) Trzecia składowa wektora a:\", trzecia_skladowa))\n",
    "\n",
    "# h) Utworzenie nowego wektora b jako wektora a bez czwartej składowej\n",
    "b <- a[-4]\n",
    "print(\"h) Wektor b (wektor a bez czwartej składowej):\")\n",
    "print(b)"
   ]
  },
  {
   "cell_type": "markdown",
   "id": "e1651a6d",
   "metadata": {},
   "source": [
    "## Zadanie 7\n",
    "7.  Utwórz macierz              1 1 1 2 1 1 0 3 2 A ,  a następnie:  a) sprawdź wynik działania A2 oraz A%*%A; b) wyznacz transpozycję, wyznacznik i odwrotność macierzy A; c) zdefiniuj wektor b, będący trzecim wierszem macierzy A. "
   ]
  },
  {
   "cell_type": "code",
   "execution_count": 7,
   "id": "e04b1fc9",
   "metadata": {
    "vscode": {
     "languageId": "r"
    }
   },
   "outputs": [
    {
     "name": "stdout",
     "output_type": "stream",
     "text": [
      "[1] \"Macierz A:\"\n",
      "     [,1] [,2] [,3]\n",
      "[1,]    2    3    0\n",
      "[2,]    1   -1    2\n",
      "[3,]    1    1   -1\n",
      "[1] \"a) Wynik działania A^2 (potęgowanie elementowe):\"\n",
      "     [,1] [,2] [,3]\n",
      "[1,]    4    9    0\n",
      "[2,]    1    1    4\n",
      "[3,]    1    1    1\n",
      "[1] \"a) Wynik działania A%*%A (mnożenie macierzowe):\"\n",
      "     [,1] [,2] [,3]\n",
      "[1,]    7    3    6\n",
      "[2,]    3    6   -4\n",
      "[3,]    2    1    3\n",
      "[1] \"b) Transpozycja macierzy A:\"\n",
      "     [,1] [,2] [,3]\n",
      "[1,]    2    1    1\n",
      "[2,]    3   -1    1\n",
      "[3,]    0    2   -1\n",
      "[1] \"b) Wyznacznik macierzy A: 7\"\n",
      "[1] \"b) Odwrotność macierzy A:\"\n",
      "           [,1]       [,2]       [,3]\n",
      "[1,] -0.1428571  0.4285714  0.8571429\n",
      "[2,]  0.4285714 -0.2857143 -0.5714286\n",
      "[3,]  0.2857143  0.1428571 -0.7142857\n",
      "[1] \"c) Wektor b (trzeci wiersz macierzy A):\"\n",
      "[1]  1  1 -1\n"
     ]
    }
   ],
   "source": [
    "# Utworzenie macierzy A\n",
    "A <- matrix(c(2,3,0,1,-1,2,1,1,-1), nrow = 3, byrow = TRUE)\n",
    "print(\"Macierz A:\")\n",
    "print(A)\n",
    "\n",
    "# a) Sprawdzenie wyniku działania A^2 oraz A%*%A\n",
    "A_potega_2 <- A^2\n",
    "print(\"a) Wynik działania A^2 (potęgowanie elementowe):\")\n",
    "print(A_potega_2)\n",
    "\n",
    "A_mnozenie_macierzowe <- A %*% A\n",
    "print(\"a) Wynik działania A%*%A (mnożenie macierzowe):\")\n",
    "print(A_mnozenie_macierzowe)\n",
    "\n",
    "# b) Wyznaczenie transpozycji macierzy A\n",
    "A_transpozycja <- t(A)\n",
    "print(\"b) Transpozycja macierzy A:\")\n",
    "print(A_transpozycja)\n",
    "\n",
    "# Wyznacznik macierzy A\n",
    "A_wyznacznik <- det(A)\n",
    "print(paste(\"b) Wyznacznik macierzy A:\", A_wyznacznik))\n",
    "\n",
    "# Odwrotność macierzy A\n",
    "if(A_wyznacznik != 0) {\n",
    "  A_odwrotnosc <- solve(A)\n",
    "  print(\"b) Odwrotność macierzy A:\")\n",
    "  print(A_odwrotnosc)\n",
    "} else {\n",
    "  print(\"b) Macierz A jest osobliwa (wyznacznik = 0), nie ma macierzy odwrotnej.\")\n",
    "}\n",
    "\n",
    "# c) Zdefiniowanie wektora b jako trzeciego wiersza macierzy A\n",
    "b <- A[3, ]\n",
    "print(\"c) Wektor b (trzeci wiersz macierzy A):\")\n",
    "print(b)"
   ]
  },
  {
   "cell_type": "markdown",
   "id": "45469bcb",
   "metadata": {},
   "source": [
    "## Zadanie 8\n",
    "8. Utwórz dwa dowolne wektory x i y składające się z 10 składowych, a następnie:  a) Narysuj punkty  (x, y) na wykresie (wykres punktowy).  b) Połącz wektory x i y za pomocą polecenia data.frame i narysuj powstały wykres.  c) Połącz wektory x i y za pomocą poleceń rbind i cbind i narysuj powstałe wykresy. "
   ]
  },
  {
   "cell_type": "code",
   "execution_count": 8,
   "id": "754907b6",
   "metadata": {
    "vscode": {
     "languageId": "r"
    }
   },
   "outputs": [
    {
     "name": "stdout",
     "output_type": "stream",
     "text": [
      "[1] \"Wektor x:\"\n",
      " [1] 2.875775 7.883051 4.089769 8.830174 9.404673 0.455565 5.281055 8.924190\n",
      " [9] 5.514350 4.566147\n",
      "[1] \"Wektor y:\"\n",
      " [1] 9.5683335 4.5333416 6.7757064 5.7263340 1.0292468 8.9982497 2.4608773\n",
      " [8] 0.4205953 3.2792072 9.5450365\n"
     ]
    },
    {
     "name": "stderr",
     "output_type": "stream",
     "text": [
      "Warning message in title(...):\n",
      "“conversion failure on 'Wartości x' in 'mbcsToSbcs': dot substituted for <c5>”\n",
      "Warning message in title(...):\n",
      "“conversion failure on 'Wartości x' in 'mbcsToSbcs': dot substituted for <9b>”\n",
      "Warning message in title(...):\n",
      "“conversion failure on 'Wartości y' in 'mbcsToSbcs': dot substituted for <c5>”\n",
      "Warning message in title(...):\n",
      "“conversion failure on 'Wartości y' in 'mbcsToSbcs': dot substituted for <9b>”\n"
     ]
    },
    {
     "name": "stdout",
     "output_type": "stream",
     "text": [
      "[1] \"Struktura data.frame:\"\n",
      "          x         y\n",
      "1  2.875775 9.5683335\n",
      "2  7.883051 4.5333416\n",
      "3  4.089769 6.7757064\n",
      "4  8.830174 5.7263340\n",
      "5  9.404673 1.0292468\n",
      "6  0.455565 8.9982497\n",
      "7  5.281055 2.4608773\n",
      "8  8.924190 0.4205953\n",
      "9  5.514350 3.2792072\n",
      "10 4.566147 9.5450365\n"
     ]
    },
    {
     "data": {
      "image/png": "[encoded data removed]",
      "text/plain": [
       "Plot with title “Wykres punktowy (x, y)”"
      ]
     },
     "metadata": {
      "image/png": {
       "height": 420,
       "width": 420
      }
     },
     "output_type": "display_data"
    },
    {
     "name": "stderr",
     "output_type": "stream",
     "text": [
      "Warning message in title(...):\n",
      "“conversion failure on 'Wartości x' in 'mbcsToSbcs': dot substituted for <c5>”\n",
      "Warning message in title(...):\n",
      "“conversion failure on 'Wartości x' in 'mbcsToSbcs': dot substituted for <9b>”\n",
      "Warning message in title(...):\n",
      "“conversion failure on 'Wartości y' in 'mbcsToSbcs': dot substituted for <c5>”\n",
      "Warning message in title(...):\n",
      "“conversion failure on 'Wartości y' in 'mbcsToSbcs': dot substituted for <9b>”\n"
     ]
    },
    {
     "name": "stdout",
     "output_type": "stream",
     "text": [
      "[1] \"Macierz utworzona za pomocą rbind:\"\n",
      "      [,1]     [,2]     [,3]     [,4]     [,5]     [,6]     [,7]      [,8]\n",
      "x 2.875775 7.883051 4.089769 8.830174 9.404673 0.455565 5.281055 8.9241904\n",
      "y 9.568333 4.533342 6.775706 5.726334 1.029247 8.998250 2.460877 0.4205953\n",
      "      [,9]    [,10]\n",
      "x 5.514350 4.566147\n",
      "y 3.279207 9.545036\n",
      "[1] \"Macierz utworzona za pomocą cbind:\"\n",
      "             x         y\n",
      " [1,] 2.875775 9.5683335\n",
      " [2,] 7.883051 4.5333416\n",
      " [3,] 4.089769 6.7757064\n",
      " [4,] 8.830174 5.7263340\n",
      " [5,] 9.404673 1.0292468\n",
      " [6,] 0.455565 8.9982497\n",
      " [7,] 5.281055 2.4608773\n",
      " [8,] 8.924190 0.4205953\n",
      " [9,] 5.514350 3.2792072\n",
      "[10,] 4.566147 9.5450365\n"
     ]
    },
    {
     "data": {
      "image/png": "[encoded data removed]",
      "text/plain": [
       "Plot with title “Wykres punktowy z data.frame”"
      ]
     },
     "metadata": {
      "image/png": {
       "height": 420,
       "width": 420
      }
     },
     "output_type": "display_data"
    },
    {
     "name": "stderr",
     "output_type": "stream",
     "text": [
      "Warning message in title(...):\n",
      "“conversion failure on 'Wartości' in 'mbcsToSbcs': dot substituted for <c5>”\n",
      "Warning message in title(...):\n",
      "“conversion failure on 'Wartości' in 'mbcsToSbcs': dot substituted for <9b>”\n"
     ]
    },
    {
     "data": {
      "image/png": "[encoded data removed]",
      "text/plain": [
       "Plot with title “Wykres punktowy z rbind”"
      ]
     },
     "metadata": {
      "image/png": {
       "height": 420,
       "width": 420
      }
     },
     "output_type": "display_data"
    },
    {
     "name": "stderr",
     "output_type": "stream",
     "text": [
      "Warning message in title(...):\n",
      "“conversion failure on 'Wartości x' in 'mbcsToSbcs': dot substituted for <c5>”\n",
      "Warning message in title(...):\n",
      "“conversion failure on 'Wartości x' in 'mbcsToSbcs': dot substituted for <9b>”\n",
      "Warning message in title(...):\n",
      "“conversion failure on 'Wartości y' in 'mbcsToSbcs': dot substituted for <c5>”\n",
      "Warning message in title(...):\n",
      "“conversion failure on 'Wartości y' in 'mbcsToSbcs': dot substituted for <9b>”\n"
     ]
    },
    {
     "data": {
      "image/png": "[encoded data removed]",
      "text/plain": [
       "Plot with title “Wykres punktowy z cbind”"
      ]
     },
     "metadata": {
      "image/png": {
       "height": 420,
       "width": 420
      }
     },
     "output_type": "display_data"
    }
   ],
   "source": [
    "# Utworzenie dwóch wektorów, każdy z 10 składowymi\n",
    "set.seed(123) # Dla odtwarzalności wyników\n",
    "x <- runif(10, 0, 10)\n",
    "y <- runif(10, 0, 10)\n",
    "\n",
    "print(\"Wektor x:\")\n",
    "print(x)\n",
    "print(\"Wektor y:\")\n",
    "print(y)\n",
    "\n",
    "# a) Rysowanie wykresu punktowego (x, y)\n",
    "plot(x, y, main = \"Wykres punktowy (x, y)\", \n",
    "     xlab = \"Wartości x\", ylab = \"Wartości y\", \n",
    "     col = \"blue\", pch = 16)\n",
    "\n",
    "# b) Połączenie wektorów za pomocą data.frame\n",
    "dane_df <- data.frame(x = x, y = y)\n",
    "print(\"Struktura data.frame:\")\n",
    "print(dane_df)\n",
    "\n",
    "# Rysowanie wykresu z data.frame\n",
    "plot(dane_df$x, dane_df$y, main = \"Wykres punktowy z data.frame\", \n",
    "     xlab = \"Wartości x\", ylab = \"Wartości y\", \n",
    "     col = \"red\", pch = 17)\n",
    "\n",
    "# c) Połączenie wektorów za pomocą rbind i cbind\n",
    "macierz_rbind <- rbind(x, y)\n",
    "print(\"Macierz utworzona za pomocą rbind:\")\n",
    "print(macierz_rbind)\n",
    "\n",
    "macierz_cbind <- cbind(x, y)\n",
    "print(\"Macierz utworzona za pomocą cbind:\")\n",
    "print(macierz_cbind)\n",
    "\n",
    "# Rysowanie wykresu dla macierzy z rbind\n",
    "matplot(t(macierz_rbind), type = \"p\", main = \"Wykres punktowy z rbind\", \n",
    "        xlab = \"Indeks\", ylab = \"Wartości\", \n",
    "        col = c(\"green\", \"purple\"), pch = c(18, 19))\n",
    "legend(\"topright\", legend = c(\"Wiersz 1 (x)\", \"Wiersz 2 (y)\"), \n",
    "       col = c(\"green\", \"purple\"), pch = c(18, 19))\n",
    "\n",
    "# Rysowanie wykresu dla macierzy z cbind\n",
    "plot(macierz_cbind, main = \"Wykres punktowy z cbind\", \n",
    "     xlab = \"Wartości x\", ylab = \"Wartości y\", \n",
    "     col = \"orange\", pch = 15)"
   ]
  },
  {
   "cell_type": "markdown",
   "id": "ddea4610",
   "metadata": {},
   "source": [
    "## Zadanie 9 \n",
    " Narysuj funkcję 𝑓(𝑥)=𝑥2+3𝑥−5 na przedziale (-3, 4)."
   ]
  },
  {
   "cell_type": "code",
   "execution_count": 9,
   "id": "cf727872",
   "metadata": {
    "vscode": {
     "languageId": "r"
    }
   },
   "outputs": [
    {
     "name": "stderr",
     "output_type": "stream",
     "text": [
      "Warning message in text.default(x1, 1, paste(\"x ≈\", round(x1, 2)), col = \"red\"):\n",
      "“conversion failure on 'x ≈ -4.19' in 'mbcsToSbcs': dot substituted for <e2>”\n",
      "Warning message in text.default(x1, 1, paste(\"x ≈\", round(x1, 2)), col = \"red\"):\n",
      "“conversion failure on 'x ≈ -4.19' in 'mbcsToSbcs': dot substituted for <89>”\n",
      "Warning message in text.default(x1, 1, paste(\"x ≈\", round(x1, 2)), col = \"red\"):\n",
      "“conversion failure on 'x ≈ -4.19' in 'mbcsToSbcs': dot substituted for <88>”\n",
      "Warning message in text.default(x1, 1, paste(\"x ≈\", round(x1, 2)), col = \"red\"):\n",
      "“font metrics unknown for Unicode character U+2248”\n",
      "Warning message in text.default(x2, 1, paste(\"x ≈\", round(x2, 2)), col = \"red\"):\n",
      "“conversion failure on 'x ≈ 1.19' in 'mbcsToSbcs': dot substituted for <e2>”\n",
      "Warning message in text.default(x2, 1, paste(\"x ≈\", round(x2, 2)), col = \"red\"):\n",
      "“conversion failure on 'x ≈ 1.19' in 'mbcsToSbcs': dot substituted for <89>”\n",
      "Warning message in text.default(x2, 1, paste(\"x ≈\", round(x2, 2)), col = \"red\"):\n",
      "“conversion failure on 'x ≈ 1.19' in 'mbcsToSbcs': dot substituted for <88>”\n",
      "Warning message in text.default(x2, 1, paste(\"x ≈\", round(x2, 2)), col = \"red\"):\n",
      "“font metrics unknown for Unicode character U+2248”\n"
     ]
    },
    {
     "data": {
      "image/png": "[encoded data removed]",
      "text/plain": [
       "Plot with title “paste(\"Wykres funkcji f(x) = x\"^2, \" + 3x - 5\")”"
      ]
     },
     "metadata": {
      "image/png": {
       "height": 420,
       "width": 420
      }
     },
     "output_type": "display_data"
    }
   ],
   "source": [
    "# Określenie przedziału, na którym będziemy rysować funkcję\n",
    "x <- seq(-3, 4, by = 0.01)\n",
    "\n",
    "# Obliczenie wartości funkcji f(x) = x^2 + 3x - 5 dla każdego x z przedziału\n",
    "y <- x^2 + 3*x - 5\n",
    "\n",
    "# Rysowanie wykresu funkcji\n",
    "plot(x, y, type = \"l\", col = \"blue\", lwd = 2,\n",
    "     main = expression(paste(\"Wykres funkcji f(x) = x\"^2, \" + 3x - 5\")),\n",
    "     xlab = \"x\", ylab = \"f(x)\",\n",
    "     xlim = c(-3, 4), ylim = c(-10, 20))\n",
    "\n",
    "# Dodanie osi współrzędnych\n",
    "abline(h = 0, col = \"darkgray\", lty = 2)\n",
    "abline(v = 0, col = \"darkgray\", lty = 2)\n",
    "\n",
    "# Dodanie punktów przecięcia z osią OX (miejsca zerowe)\n",
    "# Dla f(x) = x^2 + 3x - 5 = 0 rozwiązania to x = (-3 ± √(9+20))/2 = (-3 ± √29)/2\n",
    "\n",
    "x1 <- (-3 - sqrt(29))/2  # pierwsze miejsce zerowe\n",
    "x2 <- (-3 + sqrt(29))/2  # drugie miejsce zerowe\n",
    "\n",
    "points(x1, 0, col = \"red\", pch = 16, cex = 1.5)\n",
    "points(x2, 0, col = \"red\", pch = 16, cex = 1.5)\n",
    "text(x1, 1, paste(\"x ≈\", round(x1, 2)), col = \"red\")\n",
    "text(x2, 1, paste(\"x ≈\", round(x2, 2)), col = \"red\")"
   ]
  }
 ],
 "metadata": {
  "kernelspec": {
   "display_name": "R",
   "language": "R",
   "name": "ir"
  },
  "language_info": {
   "codemirror_mode": "r",
   "file_extension": ".r",
   "mimetype": "text/x-r-source",
   "name": "R",
   "pygments_lexer": "r",
   "version": "4.1.2"
  }
 },
 "nbformat": 4,
 "nbformat_minor": 5
}
